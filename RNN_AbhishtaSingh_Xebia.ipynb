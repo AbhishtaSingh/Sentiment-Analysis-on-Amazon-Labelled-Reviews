{
  "nbformat": 4,
  "nbformat_minor": 0,
  "metadata": {
    "colab": {
      "name": "RNN_AbhishtaSingh_Xebia.ipynb",
      "provenance": []
    },
    "kernelspec": {
      "name": "python3",
      "display_name": "Python 3"
    },
    "language_info": {
      "name": "python"
    }
  },
  "cells": [
    {
      "cell_type": "markdown",
      "source": [
        "##Importing Google Drive for the dataset"
      ],
      "metadata": {
        "id": "xQqkUO9DDGz9"
      }
    },
    {
      "cell_type": "code",
      "execution_count": null,
      "metadata": {
        "colab": {
          "base_uri": "https://localhost:8080/"
        },
        "id": "ICYVa7aJw5CE",
        "outputId": "e7dae3c6-81e7-41a6-b1bb-e07cb80e91ba"
      },
      "outputs": [
        {
          "output_type": "stream",
          "name": "stdout",
          "text": [
            "Drive already mounted at /content/drive; to attempt to forcibly remount, call drive.mount(\"/content/drive\", force_remount=True).\n"
          ]
        }
      ],
      "source": [
        "from google.colab import drive\n",
        "drive.mount('/content/drive')"
      ]
    },
    {
      "cell_type": "code",
      "source": [
        "import numpy as np # linear algebra\n",
        "import pandas as pd # data processing\n",
        "import seaborn as sns\n",
        "import matplotlib.pyplot as plt\n",
        "\n",
        "# from sklearn.feature_extraction.text import CountVectorizer\n",
        "# from sklearn.linear_model import LinearRegression\n",
        "from keras.preprocessing.sequence import pad_sequences\n",
        "\n",
        "\n",
        "from collections import Counter\n",
        "import nltk\n",
        "import string\n",
        "from nltk.corpus import stopwords\n",
        "\n",
        "# import regex as re\n",
        "\n",
        "from keras.preprocessing.text import Tokenizer\n",
        "from keras.preprocessing.sequence import pad_sequences\n",
        "\n",
        "from keras.models import Sequential\n",
        "from keras.layers import Dense\n",
        "from keras.backend import eval\n",
        "from tensorflow.keras.optimizers import Adadelta\n",
        "from keras.layers import LSTM\n",
        "from keras.layers.embeddings import Embedding\n",
        "from keras.layers import Dropout\n",
        "from keras.layers.convolutional import Conv1D,MaxPooling1D\n",
        "df=pd.read_excel(\"/content/drive/MyDrive/Colab Notebooks/amazonLabelled.xlsx\")"
      ],
      "metadata": {
        "id": "0kso47eVxGau"
      },
      "execution_count": null,
      "outputs": []
    },
    {
      "cell_type": "code",
      "source": [
        "df.info()"
      ],
      "metadata": {
        "colab": {
          "base_uri": "https://localhost:8080/"
        },
        "id": "2bL2_u2_xXHU",
        "outputId": "5b79b739-ed8f-4ca8-c629-d0c00f0b6db9"
      },
      "execution_count": null,
      "outputs": [
        {
          "output_type": "stream",
          "name": "stdout",
          "text": [
            "<class 'pandas.core.frame.DataFrame'>\n",
            "RangeIndex: 999 entries, 0 to 998\n",
            "Data columns (total 3 columns):\n",
            " #   Column     Non-Null Count  Dtype  \n",
            "---  ------     --------------  -----  \n",
            " 0   S          999 non-null    float64\n",
            " 1   Feedback   999 non-null    object \n",
            " 2   Sentiment  999 non-null    object \n",
            "dtypes: float64(1), object(2)\n",
            "memory usage: 23.5+ KB\n"
          ]
        }
      ]
    },
    {
      "cell_type": "code",
      "source": [
        "df.head()"
      ],
      "metadata": {
        "id": "hUvlGikLz0tz",
        "colab": {
          "base_uri": "https://localhost:8080/",
          "height": 206
        },
        "outputId": "bffafb6c-f671-41f5-e18e-c5031fdfe4bd"
      },
      "execution_count": null,
      "outputs": [
        {
          "output_type": "execute_result",
          "data": {
            "text/plain": [
              "     S                                           Feedback Sentiment\n",
              "0  1.0                        Good case, Excellent value.  Positive\n",
              "1  2.0                             Great for the jawbone.  Positive\n",
              "2  3.0  Tied to charger for conversations lasting more...  Negative\n",
              "3  4.0                                  The mic is great.  Positive\n",
              "4  5.0  I have to jiggle the plug to get it to line up...  Negative"
            ],
            "text/html": [
              "\n",
              "  <div id=\"df-14752124-459f-4a0d-92fc-e2cdc32228b2\">\n",
              "    <div class=\"colab-df-container\">\n",
              "      <div>\n",
              "<style scoped>\n",
              "    .dataframe tbody tr th:only-of-type {\n",
              "        vertical-align: middle;\n",
              "    }\n",
              "\n",
              "    .dataframe tbody tr th {\n",
              "        vertical-align: top;\n",
              "    }\n",
              "\n",
              "    .dataframe thead th {\n",
              "        text-align: right;\n",
              "    }\n",
              "</style>\n",
              "<table border=\"1\" class=\"dataframe\">\n",
              "  <thead>\n",
              "    <tr style=\"text-align: right;\">\n",
              "      <th></th>\n",
              "      <th>S</th>\n",
              "      <th>Feedback</th>\n",
              "      <th>Sentiment</th>\n",
              "    </tr>\n",
              "  </thead>\n",
              "  <tbody>\n",
              "    <tr>\n",
              "      <th>0</th>\n",
              "      <td>1.0</td>\n",
              "      <td>Good case, Excellent value.</td>\n",
              "      <td>Positive</td>\n",
              "    </tr>\n",
              "    <tr>\n",
              "      <th>1</th>\n",
              "      <td>2.0</td>\n",
              "      <td>Great for the jawbone.</td>\n",
              "      <td>Positive</td>\n",
              "    </tr>\n",
              "    <tr>\n",
              "      <th>2</th>\n",
              "      <td>3.0</td>\n",
              "      <td>Tied to charger for conversations lasting more...</td>\n",
              "      <td>Negative</td>\n",
              "    </tr>\n",
              "    <tr>\n",
              "      <th>3</th>\n",
              "      <td>4.0</td>\n",
              "      <td>The mic is great.</td>\n",
              "      <td>Positive</td>\n",
              "    </tr>\n",
              "    <tr>\n",
              "      <th>4</th>\n",
              "      <td>5.0</td>\n",
              "      <td>I have to jiggle the plug to get it to line up...</td>\n",
              "      <td>Negative</td>\n",
              "    </tr>\n",
              "  </tbody>\n",
              "</table>\n",
              "</div>\n",
              "      <button class=\"colab-df-convert\" onclick=\"convertToInteractive('df-14752124-459f-4a0d-92fc-e2cdc32228b2')\"\n",
              "              title=\"Convert this dataframe to an interactive table.\"\n",
              "              style=\"display:none;\">\n",
              "        \n",
              "  <svg xmlns=\"http://www.w3.org/2000/svg\" height=\"24px\"viewBox=\"0 0 24 24\"\n",
              "       width=\"24px\">\n",
              "    <path d=\"M0 0h24v24H0V0z\" fill=\"none\"/>\n",
              "    <path d=\"M18.56 5.44l.94 2.06.94-2.06 2.06-.94-2.06-.94-.94-2.06-.94 2.06-2.06.94zm-11 1L8.5 8.5l.94-2.06 2.06-.94-2.06-.94L8.5 2.5l-.94 2.06-2.06.94zm10 10l.94 2.06.94-2.06 2.06-.94-2.06-.94-.94-2.06-.94 2.06-2.06.94z\"/><path d=\"M17.41 7.96l-1.37-1.37c-.4-.4-.92-.59-1.43-.59-.52 0-1.04.2-1.43.59L10.3 9.45l-7.72 7.72c-.78.78-.78 2.05 0 2.83L4 21.41c.39.39.9.59 1.41.59.51 0 1.02-.2 1.41-.59l7.78-7.78 2.81-2.81c.8-.78.8-2.07 0-2.86zM5.41 20L4 18.59l7.72-7.72 1.47 1.35L5.41 20z\"/>\n",
              "  </svg>\n",
              "      </button>\n",
              "      \n",
              "  <style>\n",
              "    .colab-df-container {\n",
              "      display:flex;\n",
              "      flex-wrap:wrap;\n",
              "      gap: 12px;\n",
              "    }\n",
              "\n",
              "    .colab-df-convert {\n",
              "      background-color: #E8F0FE;\n",
              "      border: none;\n",
              "      border-radius: 50%;\n",
              "      cursor: pointer;\n",
              "      display: none;\n",
              "      fill: #1967D2;\n",
              "      height: 32px;\n",
              "      padding: 0 0 0 0;\n",
              "      width: 32px;\n",
              "    }\n",
              "\n",
              "    .colab-df-convert:hover {\n",
              "      background-color: #E2EBFA;\n",
              "      box-shadow: 0px 1px 2px rgba(60, 64, 67, 0.3), 0px 1px 3px 1px rgba(60, 64, 67, 0.15);\n",
              "      fill: #174EA6;\n",
              "    }\n",
              "\n",
              "    [theme=dark] .colab-df-convert {\n",
              "      background-color: #3B4455;\n",
              "      fill: #D2E3FC;\n",
              "    }\n",
              "\n",
              "    [theme=dark] .colab-df-convert:hover {\n",
              "      background-color: #434B5C;\n",
              "      box-shadow: 0px 1px 3px 1px rgba(0, 0, 0, 0.15);\n",
              "      filter: drop-shadow(0px 1px 2px rgba(0, 0, 0, 0.3));\n",
              "      fill: #FFFFFF;\n",
              "    }\n",
              "  </style>\n",
              "\n",
              "      <script>\n",
              "        const buttonEl =\n",
              "          document.querySelector('#df-14752124-459f-4a0d-92fc-e2cdc32228b2 button.colab-df-convert');\n",
              "        buttonEl.style.display =\n",
              "          google.colab.kernel.accessAllowed ? 'block' : 'none';\n",
              "\n",
              "        async function convertToInteractive(key) {\n",
              "          const element = document.querySelector('#df-14752124-459f-4a0d-92fc-e2cdc32228b2');\n",
              "          const dataTable =\n",
              "            await google.colab.kernel.invokeFunction('convertToInteractive',\n",
              "                                                     [key], {});\n",
              "          if (!dataTable) return;\n",
              "\n",
              "          const docLinkHtml = 'Like what you see? Visit the ' +\n",
              "            '<a target=\"_blank\" href=https://colab.research.google.com/notebooks/data_table.ipynb>data table notebook</a>'\n",
              "            + ' to learn more about interactive tables.';\n",
              "          element.innerHTML = '';\n",
              "          dataTable['output_type'] = 'display_data';\n",
              "          await google.colab.output.renderOutput(dataTable, element);\n",
              "          const docLink = document.createElement('div');\n",
              "          docLink.innerHTML = docLinkHtml;\n",
              "          element.appendChild(docLink);\n",
              "        }\n",
              "      </script>\n",
              "    </div>\n",
              "  </div>\n",
              "  "
            ]
          },
          "metadata": {},
          "execution_count": 4
        }
      ]
    },
    {
      "cell_type": "code",
      "source": [
        "from nltk.corpus.reader import reviews\n",
        "reviews = df['Feedback']\n",
        "label = df['Sentiment']"
      ],
      "metadata": {
        "id": "rr7tnFWh5AoO"
      },
      "execution_count": null,
      "outputs": []
    },
    {
      "cell_type": "code",
      "source": [
        "import string\n",
        "from nltk.corpus import stopwords\n",
        "def text_process(text):\n",
        "    '''\n",
        "    Takes in a string of text, then performs the following:\n",
        "    1. Remove all punctuation\n",
        "    2. Remove all stopwords\n",
        "    3. Return the cleaned text as a list of words\n",
        "    '''\n",
        "    nopunc = [char for char in text if char not in string.punctuation]\n",
        "    nopunc = ''.join(nopunc)\n",
        "    \n",
        "    return [word for word in nopunc.split() if word.lower() not in stopwords.words('english')]"
      ],
      "metadata": {
        "id": "SPlOrLTh5hOA"
      },
      "execution_count": null,
      "outputs": []
    },
    {
      "cell_type": "code",
      "source": [
        "import nltk\n",
        "nltk.download('stopwords')"
      ],
      "metadata": {
        "colab": {
          "base_uri": "https://localhost:8080/"
        },
        "id": "RwWAUqMs53wM",
        "outputId": "3ce696f9-1414-44bb-9168-7c06b0f041cb"
      },
      "execution_count": null,
      "outputs": [
        {
          "output_type": "stream",
          "name": "stderr",
          "text": [
            "[nltk_data] Downloading package stopwords to /root/nltk_data...\n",
            "[nltk_data]   Unzipping corpora/stopwords.zip.\n"
          ]
        },
        {
          "output_type": "execute_result",
          "data": {
            "text/plain": [
              "True"
            ]
          },
          "metadata": {},
          "execution_count": 7
        }
      ]
    },
    {
      "cell_type": "code",
      "source": [
        "stop = set(stopwords.words('english'))"
      ],
      "metadata": {
        "id": "gwt6ej2N6IS6"
      },
      "execution_count": null,
      "outputs": []
    },
    {
      "cell_type": "markdown",
      "source": [
        "Stopwords: Those words which are not meant to be used to describe the sentiment of the feedback. NLTK contains the list of 40 stop-words by default, including \"a\", \"an\", \"the\", \"at\", \"of\", etc."
      ],
      "metadata": {
        "id": "2ldec7uDFIAj"
      }
    },
    {
      "cell_type": "code",
      "source": [
        "def clean_document(doco):\n",
        "    punctuation = string.punctuation\n",
        "    punc_replace = ''.join([' ' for s in punctuation])\n",
        "    doco_link_clean = re.sub(r'http\\S+', '', doco)\n",
        "\n",
        "    doco_clean_and = re.sub(r'&\\S+', '', doco_link_clean)\n",
        "    doco_clean_at = re.sub(r'@\\S+', '', doco_clean_and)\n",
        "    doco_clean = doco_clean_at.replace('-', ' ')\n",
        "\n",
        "    doco_alphas = re.sub(r'\\W +', ' ', doco_clean)\n",
        "    trans_table = str.maketrans(punctuation, punc_replace)\n",
        "    doco_clean = ' '.join([word.translate(trans_table) for word in doco_alphas.split(' ')])\n",
        "\n",
        "    doco_clean = doco_clean.split(' ')\n",
        "    p = re.compile(r'\\s*\\b(?=[a-z\\d]*([a-z\\d])\\1{3}|\\d+\\b)[a-z\\d]+', re.IGNORECASE)\n",
        "    doco_clean = ([p.sub(\"\", x).strip() for x in doco_clean])\n",
        "    \n",
        "    doco_clean = [word.lower() for word in doco_clean if len(word) > 2]\n",
        "    doco_clean = ([i for i in doco_clean if i not in stop])\n",
        "\n",
        "    doco_clean = ([p.sub(\"\", x).strip() for x in doco_clean])\n",
        "\n",
        "    return doco_clean"
      ],
      "metadata": {
        "id": "rRxPlkSA6RSj"
      },
      "execution_count": null,
      "outputs": []
    },
    {
      "cell_type": "code",
      "source": [
        "review_cleans = [clean_document(doc) for doc in reviews];\n",
        "sentences = [' '.join(r) for r in review_cleans ]"
      ],
      "metadata": {
        "id": "HpVszRt56XWY"
      },
      "execution_count": null,
      "outputs": []
    },
    {
      "cell_type": "code",
      "source": [
        "tokenizer = Tokenizer()\n",
        "tokenizer.fit_on_texts(sentences)"
      ],
      "metadata": {
        "id": "B1Py2TAb6k9B"
      },
      "execution_count": null,
      "outputs": []
    },
    {
      "cell_type": "code",
      "source": [
        "text_sequences = np.array(tokenizer.texts_to_sequences(sentences))\n",
        "sequence_dict = tokenizer.word_index\n",
        "word_dict = dict((num, val) for (val, num) in sequence_dict.items())"
      ],
      "metadata": {
        "colab": {
          "base_uri": "https://localhost:8080/"
        },
        "id": "o6yiOH0Q6vDw",
        "outputId": "4eba31ac-1fd0-43d1-a344-1fb8f9b515c8"
      },
      "execution_count": null,
      "outputs": [
        {
          "output_type": "stream",
          "name": "stderr",
          "text": [
            "/usr/local/lib/python3.7/dist-packages/ipykernel_launcher.py:1: VisibleDeprecationWarning: Creating an ndarray from ragged nested sequences (which is a list-or-tuple of lists-or-tuples-or ndarrays with different lengths or shapes) is deprecated. If you meant to do this, you must specify 'dtype=object' when creating the ndarray.\n",
            "  \"\"\"Entry point for launching an IPython kernel.\n"
          ]
        }
      ]
    },
    {
      "cell_type": "code",
      "source": [
        "print(text_sequences)"
      ],
      "metadata": {
        "colab": {
          "base_uri": "https://localhost:8080/"
        },
        "id": "x-_lPMiA6xQF",
        "outputId": "b22e90b1-f095-4574-a0af-a056aecf7a61"
      },
      "execution_count": null,
      "outputs": [
        {
          "output_type": "stream",
          "name": "stdout",
          "text": [
            "[list([3, 17, 18, 178]) list([2, 310])\n",
            " list([674, 31, 311, 422, 148, 675, 71]) list([240, 2])\n",
            " list([676, 84, 25, 179, 72, 25, 241, 73])\n",
            " list([128, 677, 128, 678, 312, 679, 680, 242, 11, 11])\n",
            " list([180, 681, 243]) list([682, 129, 423, 32]) list([49, 32, 19])\n",
            " list([9, 5, 2]) list([94, 149, 181, 8, 424, 8])\n",
            " list([50, 683, 684, 182, 425, 685, 313, 686, 9, 6]) list([3, 5, 314])\n",
            " list([80, 687, 13, 244, 42]) list([95, 21, 11, 245, 426, 1])\n",
            " list([427, 315, 688]) list([58, 3]) list([7, 2])\n",
            " list([689, 246, 150, 81, 690, 59, 691, 14, 109])\n",
            " list([130, 60, 428, 692, 693, 45, 25, 316])\n",
            " list([43, 12, 694, 429, 247, 695]) list([696, 697])\n",
            " list([317, 430, 28, 8, 50, 248, 151, 96, 110, 183])\n",
            " list([43, 698, 61, 8]) list([2, 318, 1, 699])\n",
            " list([431, 1, 97, 129, 23, 184, 1]) list([85, 249, 319, 185])\n",
            " list([86, 700, 74, 111, 432, 701, 111, 1]) list([186, 51])\n",
            " list([152, 112, 1, 12, 702, 703]) list([4, 704, 86, 16, 705, 153, 706])\n",
            " list([433, 707, 38, 708, 709]) list([50, 98, 250, 710, 251, 1])\n",
            " list([38, 31, 10, 31, 320, 75, 187, 113, 430, 711, 712, 713])\n",
            " list([154, 434, 714, 25, 1, 435, 19, 33, 188, 1, 8, 62, 715])\n",
            " list([252, 10]) list([47, 111, 19, 253]) list([17, 2, 7, 63])\n",
            " list([321, 4]) list([2, 64, 322, 716, 717, 26, 76, 2, 155, 5])\n",
            " list([94, 4]) list([26, 6, 156, 72]) list([74, 718, 131])\n",
            " list([18, 39, 6]) list([323, 157]) list([72, 719, 720, 34, 8])\n",
            " list([721, 99, 436, 132, 65, 437, 87, 50, 96]) list([17, 254, 10, 52])\n",
            " list([88, 8]) list([133, 66, 188, 16]) list([3, 324, 75, 1, 722])\n",
            " list([723, 255, 256, 438, 439, 134, 724, 725, 726, 325, 727, 728])\n",
            " list([1, 89, 189, 113, 440, 71]) list([29, 67]) list([100, 63, 729, 20])\n",
            " list([88]) list([40, 132, 1, 730, 731, 326, 53, 7, 2])\n",
            " list([48, 732, 11, 436, 9, 5, 158]) list([114, 54])\n",
            " list([441, 442, 733, 443, 257])\n",
            " list([22, 21, 734, 135, 90, 26, 735, 101])\n",
            " list([159, 2, 160, 85, 327, 23, 55, 52, 109, 128, 98, 328])\n",
            " list([34, 190, 1]) list([186, 1, 444, 736, 445, 74, 446])\n",
            " list([11, 136, 737, 447, 258, 114, 1, 329, 448, 449, 738, 739, 740, 450, 326])\n",
            " list([191, 259, 741, 742, 451])\n",
            " list([192, 42, 137, 102, 452, 138, 150, 453]) list([2, 743])\n",
            " list([68, 2, 128, 744]) list([240, 15])\n",
            " list([40, 745, 454, 746, 455, 330, 747, 456, 457]) list([2, 331])\n",
            " list([26, 458, 459, 332, 15]) list([333, 1]) list([29, 4])\n",
            " list([34, 460, 748, 461, 460]) list([2, 112, 35])\n",
            " list([29, 1, 462, 103, 323]) list([260, 161, 96, 334, 82])\n",
            " list([102, 749, 261, 10]) list([3, 262]) list([10, 335, 193, 19, 7, 750])\n",
            " list([8, 751, 194]) list([35, 30, 2, 115, 97, 12])\n",
            " list([137, 41, 12, 315, 463]) list([1, 7, 2]) list([336, 137, 47])\n",
            " list([4, 18, 7, 36, 99, 11, 752, 464]) list([1, 753, 337])\n",
            " list([4, 465, 77, 11, 195, 15, 58, 36, 754, 338, 67]) list([52, 189])\n",
            " list([30, 2]) list([13, 755, 466, 467, 11, 13]) list([339, 49, 32])\n",
            " list([263]) list([340, 12, 38, 442]) list([116, 4, 756, 136])\n",
            " list([23, 116, 58, 117, 757, 11, 23, 5, 758, 10, 338, 78])\n",
            " list([88, 341]) list([759, 760, 60, 180, 1])\n",
            " list([468, 469, 45, 761, 32, 72, 762]) list([196, 262])\n",
            " list([20, 3, 197, 198, 3, 55]) list([162, 763, 28, 60, 764, 342, 1, 31])\n",
            " list([470, 3, 64, 26, 199, 27, 101, 765, 16, 163, 471])\n",
            " list([472, 80, 473, 474, 78, 766, 85, 17])\n",
            " list([29, 6, 767, 39, 6, 2, 44, 3, 13, 69, 42, 79])\n",
            " list([64, 475, 768, 476, 769, 770, 771, 343, 10, 772, 773, 200, 477])\n",
            " list([774, 38, 31, 15])\n",
            " list([9, 5, 158, 18, 12, 6, 91, 201, 478, 201, 12, 6, 91])\n",
            " list([1, 479, 118, 344, 333])\n",
            " list([112, 775, 85, 322, 480, 776, 345, 777, 480, 72, 8, 778, 481, 779, 264, 17])\n",
            " list([2, 4, 265, 198]) list([247, 2])\n",
            " list([255, 26, 780, 482, 781, 782, 56, 1, 483, 484])\n",
            " list([70, 1, 164, 158, 346, 139, 485]) list([42, 13]) list([783])\n",
            " list([347, 784])\n",
            " list([117, 128, 190, 348, 56, 1, 119, 11, 33, 11, 116, 83, 13, 266])\n",
            " list([45, 25, 202, 66, 165]) list([785, 203, 55]) list([54, 5])\n",
            " list([138, 204, 486]) list([2, 131]) list([487, 24, 54])\n",
            " list([15, 56, 1, 84, 267, 31]) list([39, 205, 22, 16]) list([6, 786])\n",
            " list([120, 40, 787, 349, 46]) list([788, 140, 350, 789])\n",
            " list([6, 7, 2, 335, 790, 351, 791]) list([792, 21]) list([468, 488])\n",
            " list([793, 489, 352, 137, 353]) list([3, 490, 20]) list([6, 7, 794, 795])\n",
            " list([491, 349, 132, 354, 796, 354, 797]) list([121, 492, 493])\n",
            " list([49]) list([128, 190, 798, 65, 494, 355, 356, 248]) list([48, 35])\n",
            " list([88]) list([1, 495, 357, 51, 16, 206, 496])\n",
            " list([70, 1, 799, 800, 268]) list([49, 19]) list([44, 47])\n",
            " list([801, 497, 320, 358, 320]) list([97, 92, 130, 163, 802]) list([498])\n",
            " list([131, 5, 47, 47]) list([247, 61, 6, 803, 499, 804])\n",
            " list([207, 500, 805, 806, 16, 807, 501, 15, 10, 10, 11, 7, 2])\n",
            " list([43, 502, 159, 9, 36])\n",
            " list([1, 265, 242, 208, 808, 809, 810, 811, 812, 503, 87, 46])\n",
            " list([26, 5, 813, 814, 104]) list([35, 359, 7, 166]) list([29, 815])\n",
            " list([504, 505]) list([816, 141, 269, 12, 67, 167, 16]) list([2, 31])\n",
            " list([441, 817, 270, 818]) list([7, 16, 209, 15, 11, 70, 1])\n",
            " list([53, 506, 819, 75, 159, 271, 820, 66, 821, 822, 80, 823])\n",
            " list([2, 178]) list([15, 824, 825, 82])\n",
            " list([122, 360, 92, 26, 76, 2, 507]) list([109, 59])\n",
            " list([11, 67, 251, 826, 267, 508, 272]) list([18, 24])\n",
            " list([509, 827, 32]) list([131, 5, 47]) list([510, 361, 511, 22, 2])\n",
            " list([828, 829, 830, 831, 11, 832, 362, 2]) list([505, 1, 2, 363])\n",
            " list([512, 201, 39, 60, 833, 1, 30, 16, 209, 834, 1, 318, 17])\n",
            " list([168, 835, 836, 837, 364, 838, 450, 169]) list([839, 1, 513, 68])\n",
            " list([16, 133, 514, 515, 311, 1]) list([34, 4])\n",
            " list([840, 6, 19, 53, 42, 150, 83, 13]) list([9, 5, 3, 516, 210])\n",
            " list([1, 841, 272, 22, 842]) list([843, 71, 45, 170, 512, 148, 844])\n",
            " list([517]) list([80, 473]) list([2, 1]) list([49, 845])\n",
            " list([846, 121, 847, 848, 484, 849, 438, 326, 33, 850, 365])\n",
            " list([366, 451, 205]) list([518, 851, 211, 3, 1, 34])\n",
            " list([852, 367, 26, 185, 1]) list([71, 853, 854, 519, 165]) list([94])\n",
            " list([118, 855, 856, 425]) list([29, 520]) list([54, 331])\n",
            " list([857, 17, 79]) list([142, 1, 368, 858])\n",
            " list([212, 40, 859, 369, 14, 507, 860, 360]) list([85, 3, 861])\n",
            " list([81, 862, 863, 864, 865, 91]) list([23, 866, 867, 868])\n",
            " list([8, 273, 206]) list([2, 6, 94, 869])\n",
            " list([870, 871, 64, 213, 1, 370, 872]) list([521, 98, 30, 2])\n",
            " list([3, 873, 131]) list([242, 123])\n",
            " list([522, 874, 143, 875, 4, 876, 877, 43, 371, 878, 879])\n",
            " list([251, 880, 351, 1, 881]) list([2, 20, 27])\n",
            " list([214, 241, 274, 882, 164, 491, 1, 883, 523, 44, 9, 5, 524])\n",
            " list([265, 24]) list([14, 95, 21]) list([14, 21])\n",
            " list([27, 16, 508, 525, 16, 14, 884, 12]) list([57, 1, 37])\n",
            " list([53, 885, 1]) list([886, 887])\n",
            " list([208, 526, 12, 90, 888, 526, 889, 16, 143]) list([152, 275, 2, 79])\n",
            " list([276, 36, 527, 372, 60]) list([124, 890, 9, 528, 65, 113, 494])\n",
            " list([529, 42, 516, 241]) list([530, 16, 891, 11, 275, 531, 892])\n",
            " list([532, 88]) list([1, 125, 533, 2])\n",
            " list([373, 374, 893, 504, 85, 30, 322, 33, 46]) list([8, 139, 142])\n",
            " list([136, 49, 19]) list([49, 11]) list([2, 9, 24])\n",
            " list([22, 203, 4, 58]) list([11, 894, 895, 37]) list([23, 39, 375])\n",
            " list([896, 264, 26, 897, 376, 21, 17]) list([534, 25, 6, 369, 22, 898])\n",
            " list([75, 277]) list([136, 215, 899, 900]) list([1, 433, 28])\n",
            " list([57, 105, 24, 37]) list([535, 13, 536, 319, 249, 537])\n",
            " list([901, 538, 39, 6]) list([278, 169, 902]) list([18, 903, 904, 1, 17])\n",
            " list([26, 159, 20, 15, 2]) list([141, 905, 364])\n",
            " list([42, 102, 10, 377, 216, 906, 78, 17])\n",
            " list([83, 16, 907, 202, 539, 908]) list([909, 23, 1, 37])\n",
            " list([910, 540, 3, 5]) list([29, 323, 371, 911])\n",
            " list([4, 202, 912, 913, 541, 914, 542, 217]) list([47, 5, 24])\n",
            " list([171, 90, 520, 543, 915]) list([2, 279]) list([18, 172, 197, 270])\n",
            " list([2, 78, 332, 916]) list([3, 4, 517, 178]) list([544, 30, 545, 58])\n",
            " list([7, 2]) list([917, 126]) list([11, 15, 280]) list([8, 62, 134, 3])\n",
            " list([437, 206, 259]) list([2, 35]) list([49, 32]) list([29, 6])\n",
            " list([378, 258, 346, 27, 918, 919]) list([30, 166]) list([281, 920])\n",
            " list([921, 546, 9, 5]) list([351, 11]) list([922, 84, 7, 2])\n",
            " list([423, 112, 32, 279]) list([3, 1]) list([23, 923, 218, 185])\n",
            " list([376, 547, 282]) list([3, 4, 3, 283]) list([29, 39])\n",
            " list([33, 102, 10]) list([94, 6, 284]) list([70, 120, 548]) list([2, 1])\n",
            " list([21, 285, 4]) list([69, 126]) list([379, 924, 925])\n",
            " list([35, 2, 926, 449, 380, 927, 82, 3, 169, 135, 71]) list([2, 1])\n",
            " list([34]) list([18, 1]) list([55, 1]) list([121, 492, 928, 929, 18])\n",
            " list([172, 23, 1, 37])\n",
            " list([7, 2, 930, 931, 1, 381, 932, 933, 325, 934, 92])\n",
            " list([11, 7, 156, 72]) list([105, 24, 93])\n",
            " list([8, 62, 53, 59, 66, 60, 935, 936]) list([242, 123])\n",
            " list([207, 52, 549, 341]) list([937, 938, 939, 940]) list([3, 20])\n",
            " list([100, 30, 33, 286, 68, 529, 941, 942, 150, 336, 192, 3])\n",
            " list([162, 194, 7, 2]) list([82, 2])\n",
            " list([219, 86, 943, 116, 6, 382, 287])\n",
            " list([125, 220, 144, 944, 261, 51, 103, 36]) list([383, 527, 11, 532])\n",
            " list([3, 8, 70, 22, 265]) list([945, 946, 384])\n",
            " list([27, 479, 66, 79, 947, 948, 458, 459, 110, 949, 17])\n",
            " list([1, 261, 51, 16, 28]) list([8, 281, 10, 24, 12, 950])\n",
            " list([385, 9, 5, 145, 47, 951, 1, 180, 503, 502, 6, 386])\n",
            " list([550, 103, 952]) list([196, 243, 953, 954, 56, 1, 955, 551])\n",
            " list([157, 32, 123]) list([29, 68]) list([27, 48, 20])\n",
            " list([373, 4, 33, 485, 956]) list([957, 53, 384, 958])\n",
            " list([274, 121, 552, 38, 61]) list([248, 56, 1, 332, 553, 74, 221])\n",
            " list([3, 35, 106, 20]) list([107, 959, 23, 554, 555]) list([84, 15, 10])\n",
            " list([108, 288]) list([960, 51, 198]) list([42])\n",
            " list([8, 82, 10, 366, 181, 173, 1, 98, 289]) list([44, 18])\n",
            " list([83, 266, 280, 13, 9, 76, 133, 51, 273, 222, 96])\n",
            " list([76, 5, 9, 531, 9, 556, 135, 9, 114, 6])\n",
            " list([59, 422, 8, 557, 961, 387, 87]) list([271, 61, 962]) list([223])\n",
            " list([963, 69, 14, 53, 276, 36, 5])\n",
            " list([964, 142, 965, 208, 966, 44, 43]) list([18, 9, 5]) list([48])\n",
            " list([69, 126, 115, 1, 96]) list([28, 8, 7, 2, 1]) list([57, 105, 24])\n",
            " list([132, 1, 290, 129, 40, 967, 1, 53, 2, 968, 969])\n",
            " list([44, 93, 482, 313]) list([3, 131, 5])\n",
            " list([112, 68, 970, 971, 972, 52, 62, 547, 103, 291])\n",
            " list([973, 974, 975, 224, 6, 365, 165]) list([976, 1])\n",
            " list([7, 16, 209, 7, 461]) list([42, 26, 214, 3, 8, 62])\n",
            " list([363, 354, 977, 978, 124]) list([18, 979, 388, 6])\n",
            " list([980, 981, 2, 982, 983, 984]) list([67, 85, 45, 985, 9, 986, 6])\n",
            " list([33, 44, 288, 113, 248, 37]) list([1, 138, 367, 987])\n",
            " list([382, 27, 7, 10, 988, 86, 989, 990, 100]) list([26, 80, 5])\n",
            " list([27, 1, 132, 17, 149, 558, 991, 132, 292])\n",
            " list([118, 41, 12, 76, 44, 992]) list([54, 79, 150, 136])\n",
            " list([196, 3, 993]) list([210, 68]) list([49, 32])\n",
            " list([373, 60, 225, 171, 70, 10, 994, 82, 4]) list([29, 1])\n",
            " list([146, 6, 59, 19, 70, 389]) list([995, 559, 6, 560, 561, 562])\n",
            " list([344, 18, 64, 3, 125]) list([8, 62, 27, 2]) list([57, 1, 37, 97])\n",
            " list([3, 35, 30, 182, 71, 563, 996, 997, 258])\n",
            " list([998, 27, 153, 999, 286, 564, 13, 84, 13]) list([1000, 1, 565])\n",
            " list([1001, 1, 54, 8, 62, 1002, 287, 363])\n",
            " list([76, 566, 65, 59, 8, 62, 59, 214]) list([1003, 501, 288])\n",
            " list([2, 172, 197, 68]) list([40, 147, 1004, 1005, 1006, 1007, 344, 101])\n",
            " list([61, 293, 1008]) list([390, 219, 219, 362, 1009, 11, 391, 7, 10])\n",
            " list([1010, 1011]) list([57, 69, 174, 37, 559, 99, 105, 24])\n",
            " list([47, 9, 5]) list([23, 1, 375]) list([30, 10])\n",
            " list([143, 567, 4, 1012, 7, 10]) list([568, 294])\n",
            " list([155, 477, 58, 1013, 156, 87, 1014, 1015]) list([2, 295])\n",
            " list([18, 4, 296, 55]) list([95, 21, 1016, 86, 392, 286]) list([36, 195])\n",
            " list([78, 348, 250, 72, 67, 170, 13]) list([2, 4, 20])\n",
            " list([500, 3, 370, 156, 1017, 152])\n",
            " list([53, 569, 187, 35, 14, 15, 10, 37, 1018]) list([215])\n",
            " list([1019, 24]) list([18, 4, 20]) list([203, 6]) list([49, 32, 19])\n",
            " list([226, 29, 59, 8, 62])\n",
            " list([570, 227, 285, 28, 361, 38, 361, 1020, 159, 38, 1021, 169, 19, 28, 1, 297])\n",
            " list([7, 2]) list([284, 39, 1022, 34])\n",
            " list([173, 99, 1023, 1024, 56, 87, 33, 67, 571, 22, 54, 24])\n",
            " list([146, 28, 279]) list([95, 21, 68, 315]) list([310, 1025, 210])\n",
            " list([162, 471, 1026, 8, 269, 393, 222, 1027, 181, 46, 109, 191, 53, 273, 334, 1028])\n",
            " list([125, 8, 130, 139, 393, 6]) list([46, 128, 1, 50, 98, 11, 23])\n",
            " list([210, 28, 122, 343]) list([33, 1, 1029, 52])\n",
            " list([572, 76, 9, 1030, 1031, 111]) list([228, 573, 22, 41, 244])\n",
            " list([20, 3]) list([75, 277]) list([1032, 27, 1033, 1034, 212, 574, 1])\n",
            " list([78, 1035, 1036, 17, 83, 63])\n",
            " list([27, 356, 127, 115, 1037, 1038, 1039])\n",
            " list([211, 1040, 1, 1041, 312, 138, 2, 44])\n",
            " list([169, 67, 1, 15, 166, 16])\n",
            " list([229, 1042, 1, 1043, 22, 90, 298, 1044, 226, 163, 575])\n",
            " list([22, 41]) list([1045, 1046, 1047, 355, 1048, 110, 1049, 574])\n",
            " list([359, 1050]) list([1051, 56, 1, 72, 299, 1052, 38]) list([106, 5])\n",
            " list([95, 21, 1053, 156, 1054, 1]) list([25, 36, 44, 230, 1])\n",
            " list([576, 170, 299]) list([1055, 45, 217, 127, 25, 123, 32])\n",
            " list([1056, 68, 7, 2]) list([46, 111, 206, 8, 14, 496, 1057, 577])\n",
            " list([160, 54, 127, 297, 11, 1058, 14, 21, 175]) list([1059])\n",
            " list([394, 550, 1060, 14, 1061, 285, 1062, 5, 578])\n",
            " list([52, 17, 120, 176, 579]) list([1063, 1, 16, 28, 253])\n",
            " list([14, 21, 580, 119, 454, 7, 545, 581, 582])\n",
            " list([1064, 141, 116, 11, 23, 178]) list([79]) list([48, 4])\n",
            " list([92, 395, 136, 1065, 1066, 1067, 10, 66, 64, 5, 18, 64, 1])\n",
            " list([22, 231, 54, 129, 6]) list([268, 116, 4, 108, 232, 160, 200, 156])\n",
            " list([1068, 7]) list([1069, 25, 2, 44, 112, 396, 253, 2])\n",
            " list([40, 1070, 380, 130, 1071, 397, 245, 426, 571, 250, 1072])\n",
            " list([27, 71, 1, 583, 1073, 1074, 233, 188]) list([3, 398, 1075, 584])\n",
            " list([1076, 1077, 5, 4]) list([26, 1078, 255])\n",
            " list([10, 52, 83, 1079, 1080, 166]) list([124, 1]) list([1081, 8, 126])\n",
            " list([14, 21, 293]) list([553, 25, 140, 15, 399]) list([88])\n",
            " list([47, 121, 230]) list([8, 7, 2]) list([1082, 1083, 11])\n",
            " list([88, 1084]) list([160, 1085, 377, 585, 1, 327, 1086, 1087])\n",
            " list([90, 2, 202]) list([1088, 24, 98, 89, 48])\n",
            " list([1089, 1090, 176, 586]) list([215, 251, 221, 269, 13])\n",
            " list([2, 140, 1091]) list([1092, 19]) list([41, 12])\n",
            " list([385, 13, 12, 1093, 1094]) list([73, 587, 1095, 127, 1096, 1097])\n",
            " list([261, 51, 59, 19, 370, 42, 59, 398, 1098, 5, 9, 493])\n",
            " list([16, 217]) list([255, 22, 588, 1099, 189, 66, 195, 71])\n",
            " list([99, 1100, 107, 176, 589, 40, 314, 1101, 1102, 152])\n",
            " list([183, 1103, 590, 15, 2]) list([1104]) list([29, 1]) list([215])\n",
            " list([591, 592])\n",
            " list([300, 593, 256, 207, 594, 91, 298, 216, 218, 1, 1105, 1106])\n",
            " list([595, 1, 40, 61]) list([400, 1, 280, 1107, 1108, 73, 1109])\n",
            " list([439, 345])\n",
            " list([337, 380, 12, 120, 1110, 1111, 64, 596, 1112, 1113])\n",
            " list([14, 196, 21, 119, 1114, 146, 376, 230, 2, 20])\n",
            " list([99, 98, 289, 22, 1115, 24]) list([89, 69, 126])\n",
            " list([84, 401, 395]) list([7, 597]) list([558, 32, 35, 97])\n",
            " list([54, 55]) list([10, 296])\n",
            " list([1116, 402, 1117, 1118, 216, 1119, 1120]) list([8, 18, 262])\n",
            " list([598, 174]) list([14, 403, 404, 274]) list([102, 452, 83, 63])\n",
            " list([9, 5, 68, 599, 474, 22, 455, 356, 350, 74, 231])\n",
            " list([14, 21, 35, 175]) list([405, 193, 342, 1121]) list([2, 71])\n",
            " list([1122, 600, 1123, 84, 31, 231, 1124])\n",
            " list([1125, 1, 209, 548, 1126, 601])\n",
            " list([113, 207, 1127, 232, 66, 72, 483, 290, 1128, 157])\n",
            " list([9, 76, 86, 111, 602, 5])\n",
            " list([70, 1129, 17, 28, 406, 30, 22, 10, 1130, 1131, 166, 58])\n",
            " list([3, 4, 10, 52]) list([184, 1, 1132, 243])\n",
            " list([94, 204, 60, 1133, 1])\n",
            " list([162, 1134, 10, 161, 198, 603, 100, 3, 82, 263, 211, 534, 1135])\n",
            " list([1, 189, 1136]) list([94, 14, 21, 35, 175])\n",
            " list([604, 1137, 9, 73, 112, 106, 40, 397])\n",
            " list([1138, 108, 605, 154, 3, 20])\n",
            " list([606, 1139, 1140, 1141, 123, 1142, 325])\n",
            " list([301, 43, 28, 144, 1, 82, 2]) list([7, 2]) list([22, 1143])\n",
            " list([124, 587, 290]) list([402, 1144, 1145]) list([134, 1146])\n",
            " list([180, 8, 3, 34]) list([227, 3, 15, 108]) list([1147, 407, 234])\n",
            " list([300, 41, 607, 1148, 1149, 608, 114, 607, 608, 1, 292, 609])\n",
            " list([487, 1150, 32, 1151, 231]) list([2, 17, 20])\n",
            " list([610, 11, 408, 1152, 1153, 1154, 1155, 94, 1156])\n",
            " list([39, 214, 3, 96, 289, 250, 1, 1157, 70, 91, 1158, 611, 110, 1159])\n",
            " list([120, 481, 476, 146, 1160, 347, 1161, 513, 246])\n",
            " list([612, 1162, 9, 1163, 13, 613, 1164, 9, 73, 230])\n",
            " list([235, 28, 1165, 37, 145, 30, 1166]) list([268, 260])\n",
            " list([1167, 614, 65, 562]) list([327, 1, 598, 86, 236, 74, 12])\n",
            " list([34, 4]) list([1168, 490, 15, 1])\n",
            " list([1169, 1170, 1171, 40, 1172, 231, 389, 28, 11, 1173])\n",
            " list([57, 140, 37, 46, 45, 392, 1174, 546, 14])\n",
            " list([390, 75, 91, 1175, 1176])\n",
            " list([17, 543, 69, 228, 329, 272, 324, 537])\n",
            " list([119, 1177, 48, 9, 5, 226, 1178, 36]) list([29, 64, 22, 89, 3, 5])\n",
            " list([509, 2, 24]) list([1179, 1180])\n",
            " list([283, 1181, 1182, 14, 196, 34])\n",
            " list([392, 1183, 404, 1184, 302, 1185, 1186]) list([1187])\n",
            " list([2, 4, 20]) list([260, 282, 1188, 1189, 230, 338, 12])\n",
            " list([1190, 388, 345, 104, 112, 1]) list([235, 7, 34])\n",
            " list([1191, 106, 5, 9, 1192, 164, 1193, 1194, 379, 337, 1195, 1196])\n",
            " list([615, 339, 49, 32]) list([145, 296, 55])\n",
            " list([146, 3, 5, 60, 6, 227, 146])\n",
            " list([317, 1197, 1198, 12, 1199, 31, 80]) list([1200, 400])\n",
            " list([586, 80]) list([2, 28, 335, 26, 7, 3, 71, 173, 167, 19, 276])\n",
            " list([2, 4]) list([69, 174])\n",
            " list([372, 93, 1201, 39, 6, 77, 42, 109, 119, 1202]) list([1203, 71])\n",
            " list([57, 37]) list([48]) list([330, 1204, 141, 1205, 303, 1206, 1207])\n",
            " list([616, 37, 74, 1208, 457]) list([8, 62, 95, 599]) list([143, 617])\n",
            " list([100, 358, 304, 14]) list([1209, 1210, 169, 91, 618, 1211, 78, 6])\n",
            " list([7, 2, 38, 31, 226, 236, 84, 50, 1212, 19])\n",
            " list([99, 443, 257, 1213, 1214, 235, 30, 606, 232, 267, 1215, 225])\n",
            " list([121, 5, 165, 1216, 132, 65])\n",
            " list([1217, 1218, 409, 395, 20, 106, 14, 85, 5, 384, 107])\n",
            " list([36, 276])\n",
            " list([192, 379, 1219, 1220, 176, 1221, 114, 1222, 176, 564])\n",
            " list([8, 619, 10]) list([27, 176, 168, 21, 1223, 4])\n",
            " list([46, 50, 96, 233, 41, 74])\n",
            " list([70, 38, 31, 40, 191, 31, 620, 130, 84, 182, 1224])\n",
            " list([410, 93, 105, 24]) list([1225, 1, 110, 1226]) list([101])\n",
            " list([41, 12]) list([36, 28]) list([1227, 25, 126, 1228])\n",
            " list([69, 1229]) list([89, 3, 4]) list([2, 1])\n",
            " list([20, 108, 18, 4, 14, 95, 21]) list([1230, 1231, 1232, 271, 1233])\n",
            " list([134, 1234, 73, 1235, 621]) list([87, 82, 63]) list([48, 4])\n",
            " list([47, 336]) list([1236]) list([211, 14, 21, 1, 28, 1237])\n",
            " list([410, 1238, 24]) list([104, 411, 122, 104]) list([83, 13, 10, 42])\n",
            " list([15, 1239, 1240]) list([1241, 224, 1242, 75, 411, 16, 1243, 622])\n",
            " list([16, 80, 122, 119, 1244, 13, 137, 89, 1245, 102, 206, 305, 110, 1246, 13])\n",
            " list([602, 623, 1247, 50, 181, 56, 1, 590, 1248, 20])\n",
            " list([57, 1, 177, 174, 1249, 177, 1250, 57, 37, 1251])\n",
            " list([31, 30, 191, 139, 1252, 183, 1]) list([47, 4])\n",
            " list([107, 412, 36, 249])\n",
            " list([154, 50, 172, 624, 92, 140, 1253, 1254, 220, 236, 1255, 28, 140, 1256])\n",
            " list([30, 10, 625, 306, 1257, 566, 6, 78, 307, 39, 1258])\n",
            " list([1259, 76, 4, 1260, 406, 1261, 1262, 626, 151, 1263])\n",
            " list([34, 1264, 288]) list([2, 4, 187, 1265, 78, 1266])\n",
            " list([413, 328, 1267, 278, 1268, 20, 1269])\n",
            " list([237, 117, 1270, 343, 1271, 97, 11, 254, 59, 1272])\n",
            " list([1273, 253]) list([75, 277, 615, 34, 1])\n",
            " list([1, 394, 10, 57, 37, 627])\n",
            " list([17, 167, 308, 1274, 168, 259, 1275, 381, 13])\n",
            " list([21, 510, 175, 190, 627, 56, 87, 447, 1276, 282]) list([522, 301])\n",
            " list([1277, 1278, 1279, 1280, 163, 1, 429, 628, 2, 212])\n",
            " list([61, 35, 14, 263, 412]) list([25, 414, 1281])\n",
            " list([140, 2, 204, 45, 27, 75, 303, 371, 1282, 1283, 110, 141, 238])\n",
            " list([1284, 3, 5, 38, 31, 77, 629]) list([1285])\n",
            " list([107, 137, 1286, 3, 134, 19, 555, 16, 33, 456, 1287, 135, 131, 1288, 1289])\n",
            " list([46, 1290, 197, 1291, 160, 141, 1292, 225, 1, 20, 171, 18])\n",
            " list([223, 1293, 3, 1294])\n",
            " list([1295, 309, 1296, 415, 1297, 9, 1298, 630, 158, 91])\n",
            " list([631, 1299]) list([271, 93, 105, 24, 25, 414])\n",
            " list([109, 357, 1300, 396, 234, 41, 624, 9, 77, 36, 293, 117])\n",
            " list([1301, 143, 632, 475, 127, 53, 633, 1302, 1303, 1304])\n",
            " list([1305, 150, 1306, 54, 1, 1307, 127, 634])\n",
            " list([1, 189, 144, 635, 87]) list([2, 1])\n",
            " list([636, 306, 17, 1308, 103, 308, 523, 565]) list([203]) list([8, 93])\n",
            " list([116, 4, 41, 267, 12]) list([279, 440, 1309, 1310, 1311, 13])\n",
            " list([1312, 174, 9, 5, 93]) list([31, 193, 161, 1313, 603, 15])\n",
            " list([13, 1314, 412, 1315, 9, 2])\n",
            " list([391, 151, 1316, 290, 637, 1317, 115, 45, 12, 334, 1318])\n",
            " list([362, 213, 7, 63, 38, 638, 639, 1319, 435, 306, 1320, 211, 53, 1321, 68, 200])\n",
            " list([111, 142, 105, 24]) list([525, 118, 415])\n",
            " list([79, 406, 1322, 115, 33, 19, 117, 84]) list([48, 55, 3, 5, 106, 20])\n",
            " list([29, 122, 411, 177, 1323]) list([10, 1324, 360, 245, 26, 212])\n",
            " list([100]) list([45, 21]) list([26, 9]) list([90, 3, 155, 17, 472, 215])\n",
            " list([77, 167, 310, 149, 234]) list([347, 130, 1325])\n",
            " list([367, 364, 495, 357, 221])\n",
            " list([243, 1326, 175, 1327, 57, 1328, 1329, 80])\n",
            " list([33, 67, 1330, 1331])\n",
            " list([10, 52, 41, 640, 1, 462, 1332, 224, 244])\n",
            " list([1333, 416, 1334, 135, 1335, 252, 519]) list([1336, 303, 641, 445])\n",
            " list([39, 15, 1, 1337, 1338, 642, 81, 65, 1339, 318, 1340])\n",
            " list([1341, 309]) list([7, 63, 60, 596, 103, 36, 1342, 8])\n",
            " list([73, 1343, 134, 3, 1344, 133]) list([235, 643, 1345])\n",
            " list([64, 212, 1346, 309])\n",
            " list([4, 446, 1347, 1348, 19, 383, 101, 90, 533, 91, 622, 321])\n",
            " list([29, 303, 1349]) list([644, 1350, 1351]) list([41, 316, 177, 56])\n",
            " list([249, 1352, 382, 1353, 45, 46]) list([14, 427, 55, 35, 113, 30, 10])\n",
            " list([54, 414, 544, 24]) list([7, 10]) list([144, 307, 171, 15, 1])\n",
            " list([76, 645, 9]) list([12, 1354, 348, 319, 1355, 89, 10])\n",
            " list([1356, 604, 8, 1357, 1358])\n",
            " list([80, 394, 1359, 1360, 45, 1361, 13]) list([34, 157, 12, 405])\n",
            " list([1, 27, 147, 2, 199, 40, 646, 1362]) list([75, 122, 101])\n",
            " list([153, 1363, 528, 1364])\n",
            " list([42, 79, 154, 6, 42, 434, 647, 19, 1365, 305])\n",
            " list([27, 1, 613, 648, 221, 1366, 1367, 1368, 1369, 1370, 1371, 1372, 258])\n",
            " list([1373, 20])\n",
            " list([297, 202, 118, 12, 118, 64, 1374, 40, 642, 1375, 1376, 328])\n",
            " list([275, 7, 10]) list([469]) list([29, 171, 649, 1377, 1378, 307, 68])\n",
            " list([175, 1379, 74, 213, 611]) list([101, 237, 1380, 1381, 92, 25, 381])\n",
            " list([43, 1, 366, 1382, 1383, 135])\n",
            " list([540, 256, 1384, 181, 8, 1385, 173, 1386])\n",
            " list([301, 221, 1, 1387, 1388])\n",
            " list([273, 167, 148, 256, 286, 12, 1, 201, 1, 61]) list([47, 5])\n",
            " list([119, 13, 536, 23]) list([278]) list([1, 1389, 139, 25, 1390])\n",
            " list([1391, 82, 46, 97, 260, 229, 11, 23, 6, 37, 431])\n",
            " list([300, 557, 417, 418, 1392, 1393, 650, 1394, 1395, 1396, 8, 651, 419, 652])\n",
            " list([2, 1])\n",
            " list([368, 157, 120, 387, 1, 122, 1397, 308, 1398, 1399, 1400])\n",
            " list([3, 178, 7, 63, 650, 1401, 307, 38, 651, 419])\n",
            " list([1, 1402, 164, 38, 1403, 1404, 1, 1405, 653])\n",
            " list([368, 23, 39, 6, 9, 5]) list([85, 340, 11, 187, 109, 581, 1])\n",
            " list([1406, 647, 50, 86, 1407, 1408, 28, 1])\n",
            " list([233, 46, 1409, 137, 1410, 388, 185])\n",
            " list([17, 1411, 11, 125, 1412, 1413, 1414, 102, 1415])\n",
            " list([264, 26, 1416, 79, 1417, 654, 292, 3, 1418]) list([100, 154, 478])\n",
            " list([594, 78, 4, 96, 115])\n",
            " list([4, 2, 81, 82, 103, 291, 1419, 569, 186, 634])\n",
            " list([235, 151, 655, 1420, 6, 14, 170, 153])\n",
            " list([184, 23, 105, 24, 1421]) list([193, 194, 77, 167, 396, 293, 1422])\n",
            " list([117, 1423, 353, 161, 97, 470]) list([1424, 3, 324, 90, 1425])\n",
            " list([1426, 233, 3]) list([1427, 591, 592, 81, 41, 1428, 652])\n",
            " list([80, 3]) list([2, 44, 19]) list([14, 95, 21, 4])\n",
            " list([12, 127, 584, 3, 1429]) list([1430, 15, 19, 144])\n",
            " list([43, 1431, 31, 115, 1432, 580]) list([16, 133, 514, 515, 311, 1])\n",
            " list([359, 34, 25, 1433, 656, 1]) list([170, 299, 301, 488])\n",
            " list([1434, 1435, 172, 197, 1, 409, 210]) list([79])\n",
            " list([35, 193, 194, 7, 2, 1436, 1437, 177, 1438, 1439, 1440, 1, 374, 1441, 9, 13, 1442])\n",
            " list([118, 1443, 8, 1444, 1445, 102, 1446, 424, 1447, 19]) list([223])\n",
            " list([245, 1448, 41, 12])\n",
            " list([104, 1449, 7, 1450, 1451, 403, 106, 1452, 35])\n",
            " list([64, 1, 346, 46, 1453, 1454, 298, 78, 1455])\n",
            " list([96, 259, 1456, 1457, 173, 1, 12])\n",
            " list([1458, 152, 12, 138, 204, 486, 81, 38, 1459, 77, 1460])\n",
            " list([1461, 497, 1462, 1463]) list([9, 5, 18, 10]) list([23, 6, 46])\n",
            " list([14, 1464])\n",
            " list([164, 98, 1465, 1466, 5, 1467, 1468, 92, 657, 116, 658]) list([294])\n",
            " list([444, 575, 14, 15, 60, 1469]) list([1470, 15, 72, 1471])\n",
            " list([1472, 192, 90, 1, 275, 104, 228])\n",
            " list([633, 71, 1473, 659, 179, 168, 32, 1474, 1475, 302, 257])\n",
            " list([22, 294, 284, 72, 11, 219, 524, 3]) list([2, 4]) list([645, 76])\n",
            " list([33, 51, 252, 149, 393, 148])\n",
            " list([104, 228, 1476, 16, 220, 1477, 1478])\n",
            " list([25, 247, 124, 44, 1479, 87, 61]) list([44, 1480, 3])\n",
            " list([18, 9, 8, 62, 1481, 1482]) list([2, 39]) list([95, 21, 17])\n",
            " list([588]) list([2, 295])\n",
            " list([1, 70, 125, 220, 1483, 621, 418, 77, 383, 213])\n",
            " list([1484, 52, 55])\n",
            " list([43, 498, 45, 75, 39, 6, 79, 36, 605, 52, 1485, 102])\n",
            " list([306, 184, 1486, 234, 618, 34, 229, 1, 110, 208, 1487, 1488])\n",
            " list([124]) list([85, 14, 186, 1489, 224])\n",
            " list([649, 1490, 1491, 1492, 658, 19, 33]) list([15, 205, 420])\n",
            " list([152, 12, 16])\n",
            " list([2, 270, 1493, 1494, 225, 1495, 187, 12, 1496, 1497, 225, 1498, 400])\n",
            " list([12, 17, 541, 1499]) list([294]) list([237, 14, 263, 229])\n",
            " list([2, 1]) list([43, 8, 1500, 108, 48, 55])\n",
            " list([141, 640, 63, 1501, 1502, 30]) list([1503, 1504])\n",
            " list([1505, 404, 413, 413])\n",
            " list([3, 5, 262, 43, 43, 1506, 136, 1507, 660, 309, 86, 158, 74])\n",
            " list([378]) list([117, 1508, 134, 133, 1509, 1510, 138, 220, 53, 632, 2])\n",
            " list([3, 7, 63]) list([20, 2, 295]) list([2, 20]) list([631, 139, 142])\n",
            " list([1511, 1512, 329, 272, 29]) list([15])\n",
            " list([33, 369, 1513, 3, 295, 386, 1, 1514, 180]) list([44, 6, 18])\n",
            " list([1515, 283])\n",
            " list([99, 1, 15, 10, 661, 3, 44, 214, 1516, 662, 179, 1517])\n",
            " list([1518, 358, 217]) list([7, 42]) list([8, 51, 62, 145, 59])\n",
            " list([119, 612, 79, 153, 10]) list([8, 62])\n",
            " list([1519, 1520, 218, 22, 223]) list([4, 568, 597])\n",
            " list([138, 165, 99, 87]) list([204]) list([14, 21]) list([340, 1521])\n",
            " list([304, 1, 64, 26, 219, 101, 1522, 466, 646, 241, 10])\n",
            " list([296, 56, 1, 305, 11]) list([227, 349, 36, 36, 641, 11, 614, 1523])\n",
            " list([1524, 12, 281]) list([198, 19, 27, 623]) list([3, 1525])\n",
            " list([3, 17]) list([15]) list([22, 3, 4]) list([300, 15])\n",
            " list([151, 115, 161, 50, 97, 12]) list([339, 34])\n",
            " list([1526, 1527, 8, 577])\n",
            " list([107, 13, 1528, 626, 239, 11, 191, 365, 11])\n",
            " list([65, 408, 1, 297, 92, 269, 163, 57, 1529, 561, 1530])\n",
            " list([124, 124, 657]) list([16, 144, 280])\n",
            " list([1531, 659, 1532, 385, 663, 158, 1533, 195])\n",
            " list([43, 144, 56, 1, 205, 289, 1534])\n",
            " list([14, 147, 59, 1535, 54, 105, 24, 372, 108]) list([223, 67, 1536])\n",
            " list([93, 38, 648, 1537])\n",
            " list([4, 142, 135, 66, 183, 664, 51, 1538, 1539, 12]) list([665])\n",
            " list([170, 299]) list([46, 1540]) list([281, 24, 184]) list([3, 66, 20])\n",
            " list([43, 50, 554, 51]) list([90, 26])\n",
            " list([18, 270, 226, 625, 1, 563, 666]) list([1541, 629, 61])\n",
            " list([1542, 448, 216, 118, 1543, 13, 419]) list([42, 653]) list([15])\n",
            " list([47, 1544]) list([7])\n",
            " list([147, 155, 8, 355, 635, 560, 1545, 1546, 207, 1547])\n",
            " list([93, 4, 49, 32]) list([109, 19, 285]) list([49, 32])\n",
            " list([58, 30, 16, 209]) list([205, 58, 3])\n",
            " list([17, 23, 213, 639, 199, 667, 78, 40, 663, 199, 667, 1])\n",
            " list([14, 21, 35]) list([331, 6, 98, 2, 9, 3, 73, 3, 402, 1548])\n",
            " list([26, 17, 192, 3, 172]) list([35, 162, 1549])\n",
            " list([22, 3, 58, 377, 23, 6, 37]) list([7, 63]) list([162, 6, 3, 19, 48])\n",
            " list([203, 1550, 45, 234, 10, 1551, 1552, 405, 499, 387])\n",
            " list([1553, 11, 27, 463]) list([3, 5]) list([58, 57, 55, 52, 108])\n",
            " list([18, 1554, 538, 6]) list([18]) list([15, 609, 467, 302])\n",
            " list([254, 139, 539, 619, 224, 1555, 417, 668])\n",
            " list([1556, 179, 229, 321, 104, 1557, 410]) list([330, 73])\n",
            " list([3, 67, 83, 266, 120, 153]) list([576, 34])\n",
            " list([416, 417, 45, 389, 58]) list([1558, 8, 238, 620, 68, 397])\n",
            " list([157, 244, 149, 1559, 13, 1560, 1561]) list([23, 6, 37])\n",
            " list([1562, 428, 195, 185, 257])\n",
            " list([133, 268, 129, 284, 1563, 1564, 238, 56, 313, 669, 12])\n",
            " list([409, 106, 5, 670, 518, 643, 9, 104])\n",
            " list([83, 266, 173, 151, 655, 352, 511]) list([18, 4, 20]) list([54, 44])\n",
            " list([4, 200, 5, 644, 174]) list([145, 42, 13]) list([2, 1])\n",
            " list([34, 4, 671]) list([100, 4, 401, 33])\n",
            " list([416, 50, 1565, 41, 616, 610, 222, 148, 182, 670, 65, 121, 552, 218])\n",
            " list([1566, 1567, 33, 542, 672, 222, 216, 312]) list([93, 1, 1568])\n",
            " list([1569, 114, 636, 166]) list([29, 274, 12, 11, 6, 1570, 179, 56])\n",
            " list([61, 13, 1571, 52, 287, 1572, 420, 239])\n",
            " list([521, 3, 146, 108, 155, 81, 122])\n",
            " list([418, 1573, 17, 1574, 5, 10, 278, 535, 465, 1575, 1576, 1577, 4])\n",
            " list([570]) list([74, 551, 38, 530, 40, 168, 1578, 1579])\n",
            " list([283, 567, 194, 77, 464, 1580]) list([3, 1581, 177])\n",
            " list([43, 1582, 1583, 32])\n",
            " list([233, 1584, 81, 421, 421, 421, 9, 665, 165, 353]) list([582])\n",
            " list([1, 660, 2, 201, 1, 350, 1585, 1586, 589, 1587, 304])\n",
            " list([147, 8, 1, 168, 123, 661, 1588])\n",
            " list([1589, 1590, 1591, 637, 123, 246, 1592, 66, 1593, 420, 656, 408])\n",
            " list([1594, 1595, 1596, 1597]) list([7]) list([1598, 1599, 69, 126])\n",
            " list([77, 36, 232, 228, 237]) list([27, 28, 61]) list([48, 58])\n",
            " list([101, 1]) list([7, 3]) list([60, 391, 70, 121, 5, 39, 6, 72])\n",
            " list([1600, 238, 1, 40, 161, 222, 662, 50]) list([2, 14, 22, 21])\n",
            " list([81, 291, 227, 39, 398]) list([304, 89, 142]) list([113, 70])\n",
            " list([316, 159, 57, 37, 9, 549]) list([378, 287, 1601])\n",
            " list([51, 302, 572, 1]) list([25, 308, 148, 1602, 91, 25, 654])\n",
            " list([107, 125, 1603, 182, 25, 1604, 1605, 1606, 92, 130, 163, 1607, 246, 65])\n",
            " list([252, 601, 171, 1608, 432, 1, 188]) list([6, 1609, 1610, 48, 55])\n",
            " list([489, 39, 6]) list([16, 1611, 1612, 1613, 13, 298, 668])\n",
            " list([103, 1614, 1615, 3, 1]) list([117, 1616, 399, 556, 7, 63])\n",
            " list([240, 617, 73, 145, 106]) list([585]) list([506, 238, 399, 1617])\n",
            " list([41, 188, 38, 73, 1618, 145, 1619])\n",
            " list([1620, 125, 1621, 43, 1622, 282]) list([1623, 41, 579, 12, 76, 9])\n",
            " list([26, 264]) list([55, 190, 17]) list([1624, 12]) list([77, 88, 143])\n",
            " list([1625]) list([51]) list([1, 25, 43, 1626, 129, 673])\n",
            " list([114, 120]) list([583, 1627, 578, 81, 129, 673]) list([29, 2, 1628])\n",
            " list([22, 16, 4, 60, 1629, 1630, 13, 69, 240])\n",
            " list([107, 1631, 415, 453, 1632, 401, 114])\n",
            " list([595, 374, 1633, 1634, 89, 48, 341]) list([94, 20, 237])\n",
            " list([27, 81, 291, 186])\n",
            " list([12, 4, 1635, 1636, 1637, 103, 200, 1638, 1639, 1640, 7, 2])\n",
            " list([89, 41]) list([236, 75, 65, 1641, 1642])\n",
            " list([107, 1643, 1644, 19, 1, 1645, 16, 669, 1]) list([333, 1646, 314])\n",
            " list([143, 51, 1647, 1648, 53, 403, 407, 123]) list([390, 217, 407])\n",
            " list([386, 160, 1649, 67, 30]) list([18, 4]) list([352, 69, 573, 239])\n",
            " list([1650, 4]) list([1, 638, 232, 100, 671, 593, 1])\n",
            " list([23, 31, 1651, 375, 317]) list([1652, 1]) list([31, 254, 15, 63])\n",
            " list([83, 1653, 13, 1654, 40, 154, 46, 9, 36, 1655, 13, 1656])\n",
            " list([66, 73]) list([630, 61, 1657]) list([45, 147, 1658, 19, 5, 47])\n",
            " list([49, 32]) list([149, 33, 1659, 600, 4])\n",
            " list([1660, 1661, 66, 183, 664]) list([77, 1662, 1, 1663, 23, 277])\n",
            " list([27, 236, 147, 199, 17, 1664, 1665]) list([1, 1666, 239])\n",
            " list([15, 86, 74, 111]) list([1667, 1668, 218, 22, 1669, 12])\n",
            " list([22, 88, 31, 15]) list([1670, 13]) list([1671, 11, 305, 1672])\n",
            " list([88]) list([208, 1673, 164])\n",
            " list([92, 25, 1674, 239, 1675, 13, 292]) list([69, 126, 672, 65, 1])\n",
            " list([35, 342, 155]) list([67, 1676, 1677, 628, 1678, 1679])\n",
            " list([666, 65, 127, 113, 30])]\n"
          ]
        }
      ]
    },
    {
      "cell_type": "code",
      "source": [
        "print(sequence_dict)"
      ],
      "metadata": {
        "colab": {
          "base_uri": "https://localhost:8080/"
        },
        "id": "PJTbrdNl67AA",
        "outputId": "eba6b8a6-9aaf-43d3-bf01-40a37ca2f7db"
      },
      "execution_count": null,
      "outputs": [
        {
          "output_type": "stream",
          "name": "stdout",
          "text": [
            "{'phone': 1, 'great': 2, 'good': 3, 'product': 4, 'quality': 5, 'headset': 6, 'works': 7, 'battery': 8, 'sound': 9, 'well': 10, 'one': 11, 'use': 12, 'ear': 13, 'would': 14, 'work': 15, 'like': 16, 'case': 17, 'excellent': 18, 'time': 19, 'price': 20, 'recommend': 21, 'really': 22, 'best': 23, 'service': 24, 'get': 25, 'nice': 26, 'also': 27, 'new': 28, 'love': 29, 'worked': 30, 'charger': 31, 'money': 32, 'first': 33, 'buy': 34, 'item': 35, 'better': 36, 'ever': 37, 'car': 38, 'bluetooth': 39, 'even': 40, 'easy': 41, 'comfortable': 42, 'bought': 43, 'reception': 44, 'could': 45, 'used': 46, 'poor': 47, 'happy': 48, 'waste': 49, 'two': 50, 'charge': 51, 'made': 52, 'still': 53, 'bad': 54, 'purchase': 55, 'cell': 56, 'worst': 57, 'far': 58, 'long': 59, 'motorola': 60, 'problem': 61, 'life': 62, 'fine': 63, 'camera': 64, 'calls': 65, 'enough': 66, 'thing': 67, 'device': 68, 'piece': 69, 'got': 70, 'problems': 71, 'right': 72, 'volume': 73, 'hear': 74, 'make': 75, 'clear': 76, 'much': 77, 'using': 78, 'fit': 79, 'design': 80, 'makes': 81, 'working': 82, 'fits': 83, 'plug': 84, 'think': 85, 'people': 86, 'phones': 87, 'disappointed': 88, 'pretty': 89, 'looks': 90, 'call': 91, 'screen': 92, 'terrible': 93, 'impressed': 94, 'highly': 95, 'days': 96, 'months': 97, 'years': 98, 'verizon': 99, 'everything': 100, 'cool': 101, 'wear': 102, 'lot': 103, 'cheap': 104, 'customer': 105, 'low': 106, 'however': 107, 'amazon': 108, 'last': 109, 'without': 110, 'talk': 111, 'little': 112, 'never': 113, 'buttons': 114, 'broke': 115, 'found': 116, 'tried': 117, 'light': 118, 'jabra': 119, 'small': 120, 'voice': 121, 'look': 122, 'back': 123, 'horrible': 124, 'year': 125, 'junk': 126, 'unit': 127, 'several': 128, 'say': 129, 'went': 130, 'audio': 131, 'dropped': 132, 'loud': 133, 'real': 134, 'since': 135, 'big': 136, 'headsets': 137, 'gets': 138, 'completely': 139, 'software': 140, 'internet': 141, 'useless': 142, 'company': 143, 'nokia': 144, 'quite': 145, 'looking': 146, 'take': 147, 'minutes': 148, 'going': 149, 'way': 150, 'three': 151, 'simple': 152, 'ears': 153, 'need': 154, 'picture': 155, 'priced': 156, 'want': 157, 'end': 158, 'headphones': 159, 'find': 160, 'within': 161, 'received': 162, 'black': 163, 'around': 164, 'signal': 165, 'perfectly': 166, 'less': 167, 'put': 168, 'every': 169, 'stay': 170, 'cable': 171, 'hands': 172, 'came': 173, 'crap': 174, 'anyone': 175, 'difficult': 176, 'samsung': 177, 'value': 178, 'line': 179, 'razr': 180, 'original': 181, 'started': 182, 'charging': 183, 'mobile': 184, 'helpful': 185, 'hold': 186, 'sure': 187, 'turn': 188, 'sturdy': 189, 'different': 190, 'week': 191, 'feels': 192, 'arrived': 193, 'quickly': 194, 'expect': 195, 'definitely': 196, 'free': 197, 'shipping': 198, 'pictures': 199, 'high': 200, 'wife': 201, 'strong': 202, 'pleased': 203, 'job': 204, 'weeks': 205, 'hours': 206, 'know': 207, 'kind': 208, 'charm': 209, 'awesome': 210, 'overall': 211, 'color': 212, 'part': 213, 'range': 214, 'disappointment': 215, 'important': 216, 'return': 217, 'feature': 218, 'many': 219, 'old': 220, 'anything': 221, 'couple': 222, 'disappointing': 223, 'belt': 224, 'data': 225, 'especially': 226, 'keep': 227, 'plastic': 228, 'another': 229, 'clarity': 230, 'nothing': 231, 'hard': 232, 'always': 233, 'replace': 234, 'none': 235, 'cannot': 236, 'cases': 237, 'connection': 238, 'easily': 239, 'mic': 240, 'decent': 241, 'sending': 242, 'must': 243, 'clip': 244, 'blue': 245, 'place': 246, 'absolutely': 247, 'bars': 248, 'instructions': 249, 'left': 250, 'hate': 251, 'kept': 252, 'performance': 253, 'seems': 254, 'keyboard': 255, 'actually': 256, 'support': 257, 'player': 258, 'later': 259, 'purchased': 260, 'holds': 261, 'bargain': 262, 'order': 263, 'leather': 264, 'fast': 265, 'comfortably': 266, 'set': 267, 'glad': 268, 'goes': 269, 'tool': 270, 'obviously': 271, 'side': 272, 'lasts': 273, 'able': 274, 'lightweight': 275, 'expected': 276, 'mistake': 277, 'worth': 278, 'earpiece': 279, 'either': 280, 'unreliable': 281, 'family': 282, 'seller': 283, 'plantronics': 284, 'buying': 285, 'try': 286, 'weak': 287, 'sucks': 288, 'ago': 289, 'times': 290, 'easier': 291, 'face': 292, 'others': 293, 'wanted': 294, 'deal': 295, 'satisfied': 296, 'comes': 297, 'rather': 298, 'away': 299, 'unfortunately': 300, 'store': 301, 'cingular': 302, 'ringtones': 303, 'said': 304, 'day': 305, 'treo': 306, 'usb': 307, 'extra': 308, 'awful': 309, 'jawbone': 310, 'conversations': 311, 'contacts': 312, 'static': 313, 'though': 314, 'everyone': 315, 'pair': 316, 'yet': 317, 'pocket': 318, 'provided': 319, 'included': 320, 'worthless': 321, 'thats': 322, 'features': 323, 'protection': 324, 'instead': 325, 'seconds': 326, 'perhaps': 327, 'seriously': 328, 'front': 329, 'trouble': 330, 'choice': 331, 'home': 332, 'beautiful': 333, 'longer': 334, 'packaged': 335, 'construction': 336, 'super': 337, 'ease': 338, 'dont': 339, 'plan': 340, 'decision': 341, 'match': 342, 'fall': 343, 'display': 344, 'rocks': 345, 'may': 346, 'setup': 347, 'earpieces': 348, 'getting': 349, 'almost': 350, 'avoid': 351, 'earbud': 352, 'failed': 353, 'coverage': 354, 'drops': 355, 'area': 356, 'forever': 357, 'description': 358, 'fantastic': 359, 'sharp': 360, 'chargers': 361, 'handsfree': 362, 'network': 363, 'slow': 364, 'lost': 365, 'replacement': 366, 'extremely': 367, 'simply': 368, 'thought': 369, 'reasonably': 370, 'form': 371, 'experience': 372, 'ordered': 373, 'sony': 374, 'market': 375, 'comfort': 376, 'probably': 377, 'drain': 378, 'poorly': 379, 'charged': 380, 'scratched': 381, 'microphone': 382, 'care': 383, 'lacking': 384, 'uncomfortable': 385, 'plugged': 386, 'flip': 387, 'wireless': 388, 'happier': 389, 'trying': 390, 'finally': 391, 'give': 392, 'dead': 393, 'might': 394, 'size': 395, 'expensive': 396, 'turned': 397, 'wearing': 398, 'computer': 399, 'results': 400, 'wrong': 401, 'noise': 402, 'given': 403, 'star': 404, 'holster': 405, 'palm': 406, 'refund': 407, 'drop': 408, 'speaker': 409, 'sprint': 410, 'feel': 411, 'needed': 412, 'plus': 413, 'pay': 414, 'tinny': 415, 'pairing': 416, 'iphone': 417, 'despite': 418, 'outlet': 419, 'break': 420, 'beep': 421, 'lasting': 422, 'wasted': 423, 'extended': 424, 'notice': 425, 'tooth': 426, 'advise': 427, 'website': 428, 'fire': 429, 'run': 430, 'owned': 431, 'pull': 432, 'unusable': 433, 'least': 434, 'book': 435, 'regarding': 436, 'returned': 437, 'turns': 438, 'pda': 439, 'large': 440, 'essentially': 441, 'forget': 442, 'tech': 443, 'particular': 444, 'party': 445, 'clearly': 446, 'mp3': 447, 'cover': 448, 'let': 449, 'lock': 450, 'died': 451, 'glasses': 452, 'sometimes': 453, 'series': 454, 'quiet': 455, 'person': 456, 'saying': 457, 'docking': 458, 'station': 459, 'd807': 460, 'advertised': 461, 'handy': 462, 'loves': 463, 'cheaper': 464, 'costs': 465, 'play': 466, 'music': 467, 'buyer': 468, 'beware': 469, 'pros': 470, 'white': 471, 'huge': 472, 'flaw': 473, 'unless': 474, 'although': 475, 'impressive': 476, 'resolution': 477, 'ask': 478, 'slim': 479, 'sex': 480, 'sleek': 481, 'full': 482, 'number': 483, 'keypad': 484, 'unhappy': 485, 'done': 486, 'basically': 487, 'careful': 488, 'logitech': 489, 'stuff': 490, 'house': 491, 'recognition': 492, 'tremendous': 493, 'experienced': 494, 'takes': 495, 'literally': 496, 'stated': 497, 'hoping': 498, 'blackberry': 499, 'sounds': 500, 'technology': 501, 'wired': 502, 'previous': 503, 'w810i': 504, 'superb': 505, 'maintain': 506, 'graphics': 507, 'button': 508, 'thank': 509, 'igo': 510, 'tips': 511, 'connected': 512, 'storage': 513, 'buzzing': 514, 'override': 515, 'functionality': 516, 'incredible': 517, 'ring': 518, 'dropping': 519, 'thin': 520, 'nearly': 521, 'bother': 522, 'room': 523, 'issues': 524, 'felt': 525, 'embarrassing': 526, 'consumer': 527, 'background': 528, 'certainly': 529, 'usually': 530, 'mess': 531, 'bit': 532, 'tell': 533, 'excited': 534, 'additional': 535, 'gels': 536, 'whatsoever': 537, 'purpose': 538, 'secure': 539, 'appears': 540, 'smell': 541, 'caused': 542, 'flimsy': 543, 'month': 544, 'flawlessly': 545, 'stars': 546, 'whole': 547, 'adorable': 548, 'wise': 549, 'gotten': 550, 'driving': 551, 'dialing': 552, 'cant': 553, 'neither': 554, 'games': 555, 'ipod': 556, 'recharge': 557, 'save': 558, 'along': 559, 'starts': 560, 'ringing': 561, 'reason': 562, 'auto': 563, 'push': 564, 'sides': 565, 'skype': 566, 'shipped': 567, 'exactly': 568, 'waiting': 569, 'stupid': 570, 'noticed': 571, 'att': 572, 'breaks': 573, 'effect': 574, 'model': 575, 'warning': 576, 'dying': 577, 'alone': 578, 'install': 579, 'purchasing': 580, 'moto': 581, 'figure': 582, 'reading': 583, 'sunglasses': 584, 'returning': 585, 'cumbersome': 586, 'switch': 587, 'worthwhile': 588, 'understand': 589, 'batteries': 590, 'user': 591, 'friendly': 592, 'ability': 593, 'receiving': 594, 'exchanged': 595, 'cellphone': 596, 'described': 597, 'defective': 598, 'unacceptable': 599, 'review': 600, 'catching': 601, 'amazed': 602, 'timeframe': 603, 'complaint': 604, 'things': 605, 'ended': 606, 'accidentally': 607, 'touch': 608, 'listening': 609, 'took': 610, 'conversation': 611, 'eargels': 612, 'seem': 613, 'numerous': 614, 'please': 615, 'barely': 616, 'joke': 617, 'forced': 618, 'holding': 619, 'broken': 620, 'breaking': 621, 'coming': 622, 'quick': 623, 'operate': 624, 'paired': 625, 'come': 626, 'brand': 627, 'red': 628, 'reviews': 629, 'echo': 630, 'wind': 631, 'told': 632, 'warranty': 633, 'something': 634, 'bar': 635, 'placed': 636, 'spring': 637, 'tries': 638, 'download': 639, 'access': 640, 'third': 641, 'flash': 642, 'tones': 643, 'chinese': 644, 'crisp': 645, 'video': 646, 'hour': 647, 'accept': 648, 'allows': 649, 'power': 650, 'wall': 651, 'etc': 652, 'hand': 653, 'cut': 654, 'sizes': 655, 'next': 656, 'protector': 657, 'date': 658, 'bottom': 659, 'sounded': 660, 'together': 661, 'feet': 662, 'send': 663, 'current': 664, 'says': 665, 'answer': 666, 'laptop': 667, 'inside': 668, 'normal': 669, 'making': 670, 'fails': 671, 'lose': 672, 'wow': 673, 'tied': 674, 'major': 675, 'jiggle': 676, 'dozen': 677, 'hundred': 678, 'imagine': 679, 'fun': 680, 'owner': 681, 'needless': 682, 'seperated': 683, 'mere': 684, 'excessive': 685, 'garbled': 686, 'odd': 687, 'fooled': 688, 'clicks': 689, 'wonder': 690, 'mechanism': 691, 'followed': 692, 'directions': 693, 'kindle': 694, 'loved': 695, 'commercials': 696, 'misleading': 697, 'mother': 698, 'combination': 699, 'couldnt': 700, 'earphone': 701, 'breakage': 702, 'unacceptible': 703, 'ideal': 704, 'whose': 705, 'sensitive': 706, 'moving': 707, 'freeway': 708, 'speed': 709, 'contract': 710, 'juice': 711, 'highy': 712, 'recommended': 713, 'mins': 714, 'short': 715, '2mp': 716, 'pics': 717, 'garbage': 718, 'mind': 719, 'gonna': 720, 'arguing': 721, 'bulky': 722, 'usable': 723, 'world': 724, 'useful': 725, 'machine': 726, 'neat': 727, 'gadget': 728, 'reasonable': 729, 'stream': 730, 'submerged': 731, 'complaints': 732, 'microsoft': 733, 'faceplates': 734, 'elegant': 735, 'angle': 736, 'drawback': 737, 'pause': 738, 'skip': 739, 'songs': 740, 'activated': 741, 'suddenly': 742, 'ipods': 743, 'situations': 744, 'bmw': 745, 'fairly': 746, 'hearing': 747, 'wrongly': 748, 'everyday': 749, 'intended': 750, 'runs': 751, 'boy': 752, 'loads': 753, 'greater': 754, 'buds': 755, 'waaay': 756, 'bluetooths': 757, 'listener': 758, 'integrated': 759, 'seamlessly': 760, 'flush': 761, 'toilet': 762, 'supposedly': 763, 'apparently': 764, 'styles': 765, 'correctly': 766, 'jabra350': 767, 'rated': 768, 'megapixels': 769, 'renders': 770, 'images': 771, 'expectations': 772, 'relatively': 773, 'purcashed': 774, 'geeky': 775, 'toast': 776, 'oozes': 777, 'embedded': 778, 'stylish': 779, 'compromise': 780, 'qwerty': 781, 'basic': 782, 'winner': 783, 'simpler': 784, 'iam': 785, 'disapoinment': 786, 'realize': 787, 'accompanied': 788, 'brilliant': 789, 'nicely': 790, 'damage': 791, 'definitly': 792, 'majority': 793, 'peachy': 794, 'keen': 795, 'upstairs': 796, 'basement': 797, 'minute': 798, 'reccomendation': 799, 'relative': 800, 'items': 801, 'sudden': 802, 'linking': 803, 'curve': 804, 'funny': 805, 'seemed': 806, 'sketchy': 807, 'messages': 808, 'web': 809, 'browsing': 810, 'significantly': 811, 'faster': 812, 'build': 813, 'unlike': 814, 'colors': 815, 'whine': 816, 'communications': 817, 'communicate': 818, 'monkeys': 819, 'share': 820, 'dna': 821, 'copy': 822, 'humans': 823, 'bougth': 824, 'l7c': 825, 'mode': 826, 'wasting': 827, 'file': 828, 'browser': 829, 'offers': 830, 'options': 831, 'needs': 832, 'hs850': 833, 'whether': 834, 'latest': 835, '15g': 836, 'likes': 837, 'crawl': 838, 'recognizes': 839, 'bluetoooth': 840, 'thorn': 841, 'abhor': 842, 'recently': 843, 'disconnected': 844, 'bucks': 845, 'check': 846, 'mail': 847, 'night': 848, 'backlight': 849, 'message': 850, 'tone': 851, 'lately': 852, 'wit': 853, 'hit': 854, 'weight': 855, 'hardly': 856, 'pleather': 857, 'deaf': 858, 'prettier': 859, 'incredibly': 860, 'investment': 861, 'strange': 862, 'ticking': 863, 'noises': 864, 'ends': 865, 'electronics': 866, 'available': 867, 'transmitters': 868, 'h500': 869, 'mega': 870, 'pixel': 871, 'good7': 872, 'transmit': 873, 'contacting': 874, 'dollar': 875, 'learned': 876, 'lesson': 877, 'online': 878, 'anyway': 879, 'earbugs': 880, 'means': 881, 'roam': 882, 'living': 883, 'crack': 884, 'infatuated': 885, 'freezes': 886, 'frequently4': 887, 'mostly': 888, 'child': 889, 'tick': 890, 'headbands': 891, 'hair': 892, 'ericsson': 893, 'favorite': 894, 'purchases': 895, 'authentic': 896, 'shine': 897, 'cute': 898, 'calendar': 899, 'sync': 900, 'defeats': 901, 'penny': 902, 'wallet': 903, 'type': 904, 'excrutiatingly': 905, 'aspect': 906, 'glove': 907, 'durable': 908, 'gosh': 909, 'attractive': 910, 'factor': 911, 'rubber': 912, 'petroleum': 913, 'unbearable': 914, 'scary': 915, 'stereo': 916, 'absolutel': 917, 'potentially': 918, 'fry': 919, 'giving': 920, 'gave': 921, 'reversible': 922, 'rotating': 923, 'contstruct': 924, 'hinge': 925, 'installed': 926, 'overnite': 927, 'thru': 928, 'handset': 929, 'cat': 930, 'attacked': 931, 'protective': 932, 'strip': 933, 'destroying': 934, 'razor': 935, 'v3i': 936, 'someone': 937, 'shouldve': 938, 'invented': 939, 'sooner': 940, 'engineered': 941, 'clever': 942, 'complained': 943, 'tracfone': 944, 'instruction': 945, 'manual': 946, 'alarm': 947, 'clock': 948, 'removing': 949, 'antena': 950, 'compared': 951, 'compliments': 952, 'state': 953, 'allow': 954, 'usage': 955, 'immediately': 956, 'ngage': 957, 'earbuds': 958, 'riingtones': 959, 'rip': 960, 'frequentyly': 961, 'adhesive': 962, 'inexpensive': 963, 'practically': 964, 'add': 965, 'boost': 966, 'concrete': 967, 'knock': 968, 'wood': 969, 'transformed': 970, 'organizational': 971, 'capability': 972, 'sitting': 973, 'vehicle': 974, 'cradle': 975, 'jerks': 976, 'los': 977, 'angeles': 978, 'starter': 979, 'loudspeaker': 980, 'option': 981, 'bumpers': 982, 'lights': 983, 'appealing': 984, 'improve': 985, 'leaks': 986, 'hot': 987, 'according': 988, 'called': 989, 'applifies': 990, 'specially': 991, 'transmission': 992, 's11': 993, 'finished': 994, 'drivng': 995, 'reverse': 996, 'tape': 997, 'embarassing': 998, 'hurt': 999, 'protects': 1000, 'average': 1001, 'operates': 1002, 'soyo': 1003, 'self': 1004, 'portraits': 1005, 'outside': 1006, 'exterior': 1007, 'mentioned': 1008, 'gadgets': 1009, 'magical': 1010, 'help': 1011, 'promptly': 1012, 'comparably': 1013, 'offering': 1014, 'today': 1015, 'encourage': 1016, 'effective': 1017, 'recieve': 1018, 'prompt': 1019, 'cradles': 1020, 'kits': 1021, 'excelent': 1022, 'cingulair': 1023, 'nicer': 1024, 'era': 1025, 'colored': 1026, 'hoursthe': 1027, 'thereplacement': 1028, 'cheaply': 1029, 'distorted': 1030, 'yell': 1031, 'forgot': 1032, 'mention': 1033, 'weird': 1034, 'iriver': 1035, 'spinn': 1036, 'fond': 1037, 'magnetic': 1038, 'strap': 1039, 'psyched': 1040, 'appointments': 1041, 'note': 1042, 'appearance': 1043, 'bland': 1044, 'sanyo': 1045, 'survived': 1046, 'dozens': 1047, 'blacktop': 1048, 'ill': 1049, 'earphones': 1050, 'finds': 1051, 'enter': 1052, 'modest': 1053, 'cellular': 1054, 'wish': 1055, 'awsome': 1056, 'drained': 1057, 'earpad': 1058, 'displeased': 1059, 'defect': 1060, 'risk': 1061, 'built': 1062, 'restored': 1063, 'searched': 1064, 'key': 1065, 'pad': 1066, 'lit': 1067, 'portable': 1068, 'colleague': 1069, 'fully': 1070, 'bed': 1071, 'morning': 1072, 'memory': 1073, 'card': 1074, 'hat': 1075, 'timely': 1076, 'shipment': 1077, 'solid': 1078, 'surefire': 1079, 'gx2': 1080, 'bt50': 1081, 'buyers': 1082, 'remorse': 1083, 'accessoryone': 1084, 'inexcusable': 1085, 'changing': 1086, 'carriers': 1087, 'tmobile': 1088, 'update': 1089, 'procedure': 1090, 'motorolas': 1091, 'delivery': 1092, 'vx9900': 1093, 'env': 1094, 'rocketed': 1095, 'destination': 1096, 'unknown': 1097, 'conditions': 1098, 'usefulness': 1099, 'bills': 1100, 'pricing': 1101, 'plans': 1102, 'overnight': 1103, 'regret': 1104, 'pitiful': 1105, 'respect': 1106, 'stuck': 1107, 'max': 1108, 'mute': 1109, 'hybrid': 1110, 'palmtop': 1111, 'excels': 1112, 'roles': 1113, 'bt250v': 1114, 'liked': 1115, 'bose': 1116, 'cancelling': 1117, 'amazing': 1118, 'nyc': 1119, 'commuter': 1120, 'photo': 1121, 'earlier': 1122, 'noted': 1123, 'happens': 1124, 'frog': 1125, 'eye': 1126, 'pushed': 1127, 'function': 1128, 'aluminum': 1129, 'protected': 1130, 'handheld': 1131, 'tools': 1132, 'sturdiness': 1133, 'orders': 1134, 'source': 1135, 'waterproof': 1136, 'standard': 1137, 'thanks': 1138, 'sliding': 1139, 'edge': 1140, 'pants': 1141, 'pockets': 1142, 'ugly': 1143, 'shield': 1144, 'incrediable': 1145, 'improvement': 1146, 'refuse': 1147, 'activate': 1148, 'gentle': 1149, 'threw': 1150, 'window': 1151, 'inches': 1152, 'kitchen': 1153, 'counter': 1154, 'cracked': 1155, 'laughing': 1156, 'trunk': 1157, 'carried': 1158, 'hitch': 1159, 'practical': 1160, 'ample': 1161, 'channel': 1162, 'directly': 1163, 'increase': 1164, 'ones': 1165, 'properly': 1166, 'missed': 1167, 'sucked': 1168, 'shifting': 1169, 'bubbling': 1170, 'peeling': 1171, 'scratch': 1172, 'droid': 1173, 'zero': 1174, 'exercise': 1175, 'frustration': 1176, 'earset': 1177, 'outgoing': 1178, 'total': 1179, 'package': 1180, 'understanding': 1181, 'patient': 1182, 'wirefly': 1183, 'contact': 1184, 'inform': 1185, 'practice': 1186, 'aggravating': 1187, 'friends': 1188, 'enjoy': 1189, 'virgin': 1190, 'muddy': 1191, 'casing': 1192, 'wire': 1193, 'insert': 1194, 'glued': 1195, 'slid': 1196, 'plantronincs': 1197, 'continues': 1198, 'flawed': 1199, 'disapointing': 1200, 'fourth': 1201, 'hated': 1202, 'fixes': 1203, 'accessing': 1204, 'downloading': 1205, 'performing': 1206, 'functions': 1207, 'constantly': 1208, 'due': 1209, 'happening': 1210, 'stop': 1211, 'adapters': 1212, 'walked': 1213, 'procedures': 1214, 'wiping': 1215, 'strength': 1216, 'plays': 1217, 'louder': 1218, 'constructed': 1219, 'menus': 1220, 'navigate': 1221, 'recessed': 1222, 'avoiding': 1223, 'smoking': 1224, 'linked': 1225, 'effort': 1226, 'possesed': 1227, 'idea': 1228, 'trash': 1229, 'research': 1230, 'development': 1231, 'division': 1232, 'knows': 1233, 'killer': 1234, 'course': 1235, 'infuriating': 1236, 'walkman': 1237, 'charges': 1238, 'europe': 1239, 'asia': 1240, 'clipping': 1241, 'deffinitely': 1242, 'cent': 1243, 'behing': 1244, 'comfortible': 1245, 'pain': 1246, 'arrival': 1247, 'fraction': 1248, 'crappy': 1249, 'e715': 1250, 'seeen': 1251, 'stopped': 1252, 'interface': 1253, 'decade': 1254, 'compete': 1255, 'designs': 1256, '700w': 1257, 'transceiver': 1258, 'steer': 1259, 'genuine': 1260, 'replacementr': 1261, 'pens': 1262, 'pack': 1263, 'buyit': 1264, 'beats': 1265, 'fingers': 1266, 'believe': 1267, 'steep': 1268, 'point': 1269, 'normally': 1270, 'apart': 1271, 'haul': 1272, 'dissapointing': 1273, 'originally': 1274, 'discarded': 1275, 'players': 1276, 'posted': 1277, 'detailed': 1278, 'comments': 1279, 'grey': 1280, 'guess': 1281, 'existing': 1282, 'cds': 1283, 'surprised': 1284, 'fabulous': 1285, 'currently': 1286, 'shooters': 1287, 'delay': 1288, 'messes': 1289, 'bitpim': 1290, 'program': 1291, 'transfer': 1292, 'accessory': 1293, 'manufacturer': 1294, 'performed': 1295, 'muffled': 1296, 'incoming': 1297, 'severe': 1298, 'resistant': 1299, 'overly': 1300, 'contacted': 1301, 'produce': 1302, 'receipt': 1303, 'luck': 1304, 'linksys': 1305, 'exchange': 1306, 'refurb': 1307, 'snug': 1308, 'heavy': 1309, 'keeps': 1310, 'falling': 1311, 'utter': 1312, 'promised': 1313, 'loop': 1314, 'tiny': 1315, 'four': 1316, 'latch': 1317, 'visor': 1318, 'address': 1319, 'reboots': 1320, 'rate': 1321, 'tungsten': 1322, 'flipphones': 1323, 'designed': 1324, 'smoothly': 1325, 'study': 1326, 'interested': 1327, 'sins': 1328, 'industrial': 1329, 'happened': 1330, 'tracking': 1331, 'detachable': 1332, 'continue': 1333, 'periodically': 1334, 'somehow': 1335, 'upload': 1336, 'locks': 1337, 'screens': 1338, 'randomly': 1339, 'locked': 1340, 'truly': 1341, 'worn': 1342, 'ringer': 1343, 'choices': 1344, 'acceptable': 1345, 'balance': 1346, 'ready': 1347, 'prime': 1348, 'upbeat': 1349, 'forgeries': 1350, 'abound': 1351, 'explain': 1352, 'jack': 1353, 'smallest': 1354, 'stays': 1355, 'biggest': 1356, 'drains': 1357, 'superfast': 1358, 'ergonomic': 1359, 'theory': 1360, 'stand': 1361, 'clips': 1362, 'occupied': 1363, 'distracting': 1364, 'entire': 1365, 'except': 1366, 'cbr': 1367, 'mp3s': 1368, 'preferably': 1369, 'ripped': 1370, 'windows': 1371, 'media': 1372, 'beat': 1373, 'shots': 1374, 'sos': 1375, 'signals': 1376, 'connect': 1377, 'mini': 1378, 'near': 1379, 'open': 1380, 'allowing': 1381, 'startac': 1382, 'regretted': 1383, 'outperform': 1384, 'china': 1385, 'v325i': 1386, 'numbers': 1387, 'sim': 1388, 'crashed': 1389, 'replaced': 1390, 'quit': 1391, 'connecting': 1392, 'multiple': 1393, 'sources': 1394, 'imac': 1395, 'external': 1396, 'elsewhere': 1397, 'bells': 1398, 'whistles': 1399, 'mediocre': 1400, 'via': 1401, 'slide': 1402, 'grip': 1403, 'prevents': 1404, 'slipping': 1405, 'span': 1406, 'exclaim': 1407, 'whoa': 1408, 'corded': 1409, 'freedom': 1410, 'passed': 1411, 'mark': 1412, 'shows': 1413, 'signs': 1414, 'functional': 1415, 'soft': 1416, 'tight': 1417, 'shape': 1418, 'copier': 1419, 'sent': 1420, 'anywhere': 1421, 'sold': 1422, 'units': 1423, 'provides': 1424, 'classy': 1425, 'krussel': 1426, 'tracfonewebsite': 1427, 'toactivate': 1428, 'texas': 1429, 'dit': 1430, 'mainly': 1431, 'soon': 1432, 'whatever': 1433, 'blueant': 1434, 'supertooth': 1435, 'metro': 1436, 'pcs': 1437, 'sch': 1438, 'r450': 1439, 'slider': 1440, 'premium': 1441, 'plugs': 1442, 'plenty': 1443, 'capacity': 1444, 'confortable': 1445, 'somewhat': 1446, 'periods': 1447, 'ant': 1448, 'hey': 1449, 'pleasantly': 1450, 'suprised': 1451, 'cost': 1452, 'dustpan': 1453, 'indoors': 1454, 'disposable': 1455, 'puff': 1456, 'smoke': 1457, 'convenient': 1458, 'ride': 1459, 'smoother': 1460, 'nano': 1461, 'son': 1462, 'dissapointed': 1463, 'reccommend': 1464, 'carries': 1465, 'highest': 1466, 'anti': 1467, 'glare': 1468, 'smartphone': 1469, 'wont': 1470, 'atleast': 1471, 'addition': 1472, 'reoccure': 1473, 'somewhere': 1474, 'else': 1475, 'creaks': 1476, 'wooden': 1477, 'floor': 1478, 'apartment': 1479, 'generally': 1480, 'inconspicuous': 1481, 'boot': 1482, 'slowly': 1483, 'sorry': 1484, 'impossible': 1485, 'refused': 1486, 'upgrade': 1487, 'discount': 1488, 'securly': 1489, 'possibility': 1490, 'double': 1491, 'booking': 1492, 'entertainment': 1493, 'communication': 1494, 'management': 1495, 'activesync': 1496, 'optimal': 1497, 'synchronization': 1498, 'disgusting': 1499, 'coupon': 1500, 'rare': 1501, 'instance': 1502, 'perfect': 1503, 'ps3': 1504, 'five': 1505, 'cheapy': 1506, 'lots': 1507, 'talking': 1508, 'shouting': 1509, 'telephone': 1510, 'yes': 1511, 'shiny': 1512, 'grtting': 1513, 'v3c': 1514, 'thumbs': 1515, 'exceeds': 1516, 'sight': 1517, 'improper': 1518, 'checked': 1519, 'everywhere': 1520, 'ordering': 1521, 'effects': 1522, 'palms': 1523, 'awkward': 1524, 'hoped': 1525, 'father': 1526, 'v265': 1527, 'pads': 1528, 'stops': 1529, 'intermittently': 1530, 'reaching': 1531, 'row': 1532, 'keys': 1533, 'nightmare': 1534, 'describe': 1535, 'speakerphone': 1536, 'cassette': 1537, 'cellphones': 1538, 'planning': 1539, 'dirty': 1540, 'read': 1541, 'products': 1542, 'sensor': 1543, 'reliability': 1544, 'beeping': 1545, 'letting': 1546, 'dieing': 1547, 'cancellation': 1548, 'counterfeit': 1549, 'see': 1550, 'travled': 1551, 'swivel': 1552, 'sister': 1553, 'dual': 1554, 'keeping': 1555, 'bottowm': 1556, 'gimmick': 1557, 'opens': 1558, 'top': 1559, 'causing': 1560, 'discomfort': 1561, 'trust': 1562, 'maintains': 1563, 'flawless': 1564, 'devices': 1565, 'utterly': 1566, 'confusing': 1567, 'holder': 1568, 'cutouts': 1569, 'land': 1570, 'loops': 1571, 'material': 1572, 'flaws': 1573, 'exceptional': 1574, 'owning': 1575, 'official': 1576, 'oem': 1577, 'loudest': 1578, 'setting': 1579, 'competitors': 1580, 'show': 1581, 'saved': 1582, 'alot': 1583, 'cuts': 1584, 'totally': 1585, 'unintelligible': 1586, 'word': 1587, 'restart': 1588, 'managed': 1589, 'bend': 1590, 'leaf': 1591, 'metal': 1592, 'stress': 1593, 'leopard': 1594, 'print': 1595, 'wonderfully': 1596, 'wild': 1597, 'saggy': 1598, 'floppy': 1599, 'looses': 1600, 'snap': 1601, 'carry': 1602, 'fliptop': 1603, 'loose': 1604, 'wobbly': 1605, 'eventually': 1606, 'receive': 1607, 'seat': 1608, 'fulfills': 1609, 'requirements': 1610, 'fact': 1611, 'rests': 1612, 'lightly': 1613, 'websites': 1614, 'rating': 1615, 'cables': 1616, 'lap': 1617, 'controls': 1618, 'accessable': 1619, 'mine': 1620, 'christmas': 1621, 'rest': 1622, 'otherwise': 1623, 'joy': 1624, 'satisifed': 1625, 's710a': 1626, 'specs': 1627, 'armband': 1628, 'allot': 1629, 'clearer': 1630, 'keypads': 1631, 'reach': 1632, 'ericson': 1633, 'z500a': 1634, 'motor': 1635, 'control': 1636, 'center': 1637, 'voltage': 1638, 'humming': 1639, 'equipment': 1640, 'certain': 1641, 'places': 1642, 'girl': 1643, 'complain': 1644, 'wake': 1645, 'styling': 1646, 'restocking': 1647, 'fee': 1648, 'darn': 1649, 'lousy': 1650, 'seen': 1651, 'sweetest': 1652, 'securely': 1653, 'hook': 1654, 'directed': 1655, 'canal': 1656, 'unsatisfactory': 1657, 'videos': 1658, 'negatively': 1659, 'adapter': 1660, 'provide': 1661, 'hype': 1662, 'assumed': 1663, 'lense': 1664, 'covered': 1665, 'falls': 1666, 'text': 1667, 'messaging': 1668, 'tricky': 1669, 'painful': 1670, 'lasted': 1671, 'blew': 1672, 'flops': 1673, 'smudged': 1674, 'touches': 1675, 'disappoint': 1676, 'infra': 1677, 'port': 1678, 'irda': 1679}\n"
          ]
        }
      ]
    },
    {
      "cell_type": "code",
      "source": [
        "reviews_encoded = [];\n",
        "for i,review in enumerate(review_cleans):\n",
        "    reviews_encoded.append([sequence_dict[x] for x in review]);"
      ],
      "metadata": {
        "id": "VcCtoaIK69-Z"
      },
      "execution_count": null,
      "outputs": []
    },
    {
      "cell_type": "code",
      "source": [
        "print(reviews_encoded[135])"
      ],
      "metadata": {
        "colab": {
          "base_uri": "https://localhost:8080/"
        },
        "id": "M-0Vio8d7YlM",
        "outputId": "0d0e14be-7e23-4f7f-d539-2161152dc2f2"
      },
      "execution_count": null,
      "outputs": [
        {
          "output_type": "stream",
          "name": "stdout",
          "text": [
            "[3, 490, 20]\n"
          ]
        }
      ]
    },
    {
      "cell_type": "code",
      "source": [
        "max_cap =8;\n",
        "X = pad_sequences(reviews_encoded, maxlen=max_cap, truncating='post')\n",
        "Y = np.array([[0,1] if '0' in label else [1,0] for label in label])"
      ],
      "metadata": {
        "id": "PA7dKXub7ahA"
      },
      "execution_count": null,
      "outputs": []
    },
    {
      "cell_type": "code",
      "source": [
        "np.random.seed(1024);\n",
        "random_posits = np.arange(len(X))\n",
        "np.random.shuffle(random_posits);"
      ],
      "metadata": {
        "id": "qsDSNg5o7gfV"
      },
      "execution_count": null,
      "outputs": []
    },
    {
      "cell_type": "code",
      "source": [
        "X = X[random_posits];\n",
        "Y = Y[random_posits];\n",
        "train_cap = int(0.85 * len(X));\n",
        "dev_cap = int(0.93 * len(X));"
      ],
      "metadata": {
        "id": "npQQ6tj47qXb"
      },
      "execution_count": null,
      "outputs": []
    },
    {
      "cell_type": "code",
      "source": [
        "X_train, Y_train = X[:train_cap], Y[:train_cap]\n",
        "X_dev, Y_dev = X[train_cap:dev_cap], Y[train_cap:dev_cap]\n",
        "X_test1, Y_test1 = X[dev_cap:], Y[dev_cap:]"
      ],
      "metadata": {
        "id": "H_YoCRLV744B"
      },
      "execution_count": null,
      "outputs": []
    },
    {
      "cell_type": "code",
      "source": [
        "from keras.models import Sequential\n",
        "from keras.layers import Dense\n",
        "from keras.backend import eval\n",
        "from keras.layers import LSTM\n",
        "from keras.layers import Dense, Embedding, LSTM, SpatialDropout1D\n",
        "\n",
        "model1 = Sequential();\n",
        "model1.add(Embedding(len(word_dict)+1, max_cap, input_length=max_cap));\n",
        "#adding a LSTM layer of dim 1--\n",
        "model1.add(LSTM(150, return_sequences=True));\n",
        "model1.add(LSTM(150, return_sequences=False));\n",
        "#adding a dense layer with activation function of relu\n",
        "model1.add(Dense(100, activation='relu'));#best 50,relu\n",
        "#adding the final output activation with activation function of softmax\n",
        "model1.add(Dense(2, activation='sigmoid'));\n",
        "print(model1.summary());\n",
        "optimizer = Adadelta(lr=0.001, decay=2);\n",
        "\n",
        "model1.compile(loss='binary_crossentropy', optimizer=optimizer, metrics=['accuracy'])"
      ],
      "metadata": {
        "colab": {
          "base_uri": "https://localhost:8080/"
        },
        "id": "kUup59nb77SX",
        "outputId": "e47d0b96-0cbe-48b1-8499-c4b35aa770a1"
      },
      "execution_count": null,
      "outputs": [
        {
          "output_type": "stream",
          "name": "stdout",
          "text": [
            "Model: \"sequential_25\"\n",
            "_________________________________________________________________\n",
            " Layer (type)                Output Shape              Param #   \n",
            "=================================================================\n",
            " embedding_25 (Embedding)    (None, 8, 8)              13440     \n",
            "                                                                 \n",
            " lstm_50 (LSTM)              (None, 8, 150)            95400     \n",
            "                                                                 \n",
            " lstm_51 (LSTM)              (None, 150)               180600    \n",
            "                                                                 \n",
            " dense_50 (Dense)            (None, 100)               15100     \n",
            "                                                                 \n",
            " dense_51 (Dense)            (None, 2)                 202       \n",
            "                                                                 \n",
            "=================================================================\n",
            "Total params: 304,742\n",
            "Trainable params: 304,742\n",
            "Non-trainable params: 0\n",
            "_________________________________________________________________\n",
            "None\n"
          ]
        },
        {
          "output_type": "stream",
          "name": "stderr",
          "text": [
            "/usr/local/lib/python3.7/dist-packages/keras/optimizer_v2/adadelta.py:74: UserWarning: The `lr` argument is deprecated, use `learning_rate` instead.\n",
            "  super(Adadelta, self).__init__(name, **kwargs)\n"
          ]
        }
      ]
    },
    {
      "cell_type": "code",
      "source": [
        "model1.fit(X_train, Y_train, batch_size=16, epochs=5, validation_data=(X_dev, Y_dev))"
      ],
      "metadata": {
        "colab": {
          "base_uri": "https://localhost:8080/"
        },
        "id": "-bb26X9j-t40",
        "outputId": "410bbb50-25f0-4891-cfb1-854492fc8f2d"
      },
      "execution_count": null,
      "outputs": [
        {
          "output_type": "stream",
          "name": "stdout",
          "text": [
            "Epoch 1/5\n",
            "54/54 [==============================] - 7s 55ms/step - loss: 0.6921 - accuracy: 0.8681 - val_loss: 0.6921 - val_accuracy: 0.8875\n",
            "Epoch 2/5\n",
            "54/54 [==============================] - 2s 33ms/step - loss: 0.6921 - accuracy: 0.8693 - val_loss: 0.6921 - val_accuracy: 0.8875\n",
            "Epoch 3/5\n",
            "54/54 [==============================] - 2s 34ms/step - loss: 0.6921 - accuracy: 0.8716 - val_loss: 0.6921 - val_accuracy: 0.8875\n",
            "Epoch 4/5\n",
            "54/54 [==============================] - 2s 33ms/step - loss: 0.6921 - accuracy: 0.8728 - val_loss: 0.6921 - val_accuracy: 0.8875\n",
            "Epoch 5/5\n",
            "54/54 [==============================] - 2s 33ms/step - loss: 0.6921 - accuracy: 0.8740 - val_loss: 0.6921 - val_accuracy: 0.8875\n"
          ]
        },
        {
          "output_type": "execute_result",
          "data": {
            "text/plain": [
              "<keras.callbacks.History at 0x7fec62050250>"
            ]
          },
          "metadata": {},
          "execution_count": 91
        }
      ]
    },
    {
      "cell_type": "code",
      "source": [
        ""
      ],
      "metadata": {
        "id": "qtGxEfMe9MVk"
      },
      "execution_count": null,
      "outputs": []
    }
  ]
}